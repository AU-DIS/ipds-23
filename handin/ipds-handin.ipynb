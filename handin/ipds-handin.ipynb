{
 "cells": [
  {
   "cell_type": "markdown",
   "id": "charming-retailer",
   "metadata": {},
   "source": [
    "# Introduction to Python for Data Science - Handin #\n",
    "\n",
    "## YOUR NAME HERE ##\n",
    "\n",
    "This handin is indiviual and mandatory to pass the course. All exercises must be completed.\n",
    "\n",
    "Hand in this .ipynb file, no later than 29/9 at 23:59. "
   ]
  },
  {
   "cell_type": "code",
   "execution_count": 2,
   "id": "hispanic-exhaust",
   "metadata": {},
   "outputs": [],
   "source": [
    "# Do not touch!\n",
    "import numpy as np\n",
    "import pandas as pd"
   ]
  },
  {
   "cell_type": "markdown",
   "id": "hindu-bench",
   "metadata": {},
   "source": [
    "# Exercise 1: The Iris Dataset\n",
    "The [iris dataset](https://archive.ics.uci.edu/ml/datasets/iris) is a very popular data set for teaching data science. It contains 3 classes of iris flowers, with 50 instances each. In this handin, we will use a modified version of the data set.\n",
    "\n",
    "### Part 1 ### \n",
    "Import the modified iris dataset. It is located in the \"data\" folder as $\\texttt{iris.csv}$."
   ]
  },
  {
   "cell_type": "code",
   "execution_count": null,
   "id": "10155663",
   "metadata": {},
   "outputs": [],
   "source": []
  },
  {
   "cell_type": "markdown",
   "id": "governmental-velvet",
   "metadata": {},
   "source": [
    "### Part 2 ###\n",
    "Change the names in the Class column from Iris-setosa, Iris-versicolour and Iris-virginica to setosa, versicolour, virginica."
   ]
  },
  {
   "cell_type": "code",
   "execution_count": null,
   "id": "a9c54033",
   "metadata": {},
   "outputs": [],
   "source": []
  },
  {
   "cell_type": "markdown",
   "id": "musical-following",
   "metadata": {},
   "source": [
    "### Part 3\n",
    "Remove all rows with NaN values from the Data Frame."
   ]
  },
  {
   "cell_type": "code",
   "execution_count": null,
   "id": "4025cb95",
   "metadata": {},
   "outputs": [],
   "source": []
  },
  {
   "cell_type": "markdown",
   "id": "official-memorabilia",
   "metadata": {},
   "source": [
    "### Part 4\n",
    "Some of the float values in the first four columns have a \"\\n\", so python reads the columns as strings. Remove the newlines from the Data Frame"
   ]
  },
  {
   "cell_type": "code",
   "execution_count": null,
   "id": "f50b703c",
   "metadata": {},
   "outputs": [],
   "source": []
  },
  {
   "cell_type": "markdown",
   "id": "digital-airline",
   "metadata": {},
   "source": [
    "### Part 5\n",
    "Now with the newlines gone, convert the string values in the first four columns to float"
   ]
  },
  {
   "cell_type": "code",
   "execution_count": null,
   "id": "7c20383d",
   "metadata": {},
   "outputs": [],
   "source": []
  },
  {
   "cell_type": "markdown",
   "id": "editorial-finland",
   "metadata": {},
   "source": [
    "### Part 6 ###\n",
    "Make a scatter plot of the data, with Sepal length as the x-axis and sepal width as y-axis. The points should have one of three colours, depending on class."
   ]
  },
  {
   "cell_type": "code",
   "execution_count": null,
   "id": "497d676f",
   "metadata": {},
   "outputs": [],
   "source": []
  },
  {
   "cell_type": "markdown",
   "id": "tight-doctor",
   "metadata": {},
   "source": [
    "Make a scatter plot with petal length as x-axis and petal width as y-axis. Can we determine the kind of iris flower based on petal and sepal measurements? (Write 1-2 lines of reflection)"
   ]
  },
  {
   "cell_type": "code",
   "execution_count": null,
   "id": "02c9d481",
   "metadata": {},
   "outputs": [],
   "source": []
  },
  {
   "cell_type": "markdown",
   "id": "industrial-facing",
   "metadata": {},
   "source": [
    "##### YOUR ANSWER HERE (1-2 lines) #####"
   ]
  },
  {
   "cell_type": "markdown",
   "id": "medical-nomination",
   "metadata": {},
   "source": [
    "### Part 7 ###\n",
    "Find the correlation between petal length and width, and the correlation between sepal length and width."
   ]
  },
  {
   "cell_type": "code",
   "execution_count": null,
   "id": "1f5f1046",
   "metadata": {},
   "outputs": [],
   "source": []
  },
  {
   "cell_type": "markdown",
   "id": "younger-chess",
   "metadata": {},
   "source": [
    "# Exercise 2: Pokemon\n",
    "Here we apply data analysis on Pokemon\n",
    "\n",
    "### Part 1\n",
    "Import the dataset"
   ]
  },
  {
   "cell_type": "code",
   "execution_count": null,
   "id": "e9895b5e",
   "metadata": {},
   "outputs": [],
   "source": []
  },
  {
   "cell_type": "markdown",
   "id": "variable-version",
   "metadata": {},
   "source": [
    "### Part 2\n",
    "Select only the Pokemon with Type_1 being \"Fire\" and \"Ice\" and then drop Generation, Legendary, Type1, Type2 and the ids (stored with the name '#')"
   ]
  },
  {
   "cell_type": "code",
   "execution_count": null,
   "id": "be9cbc8f",
   "metadata": {},
   "outputs": [],
   "source": []
  },
  {
   "cell_type": "markdown",
   "id": "driving-banner",
   "metadata": {},
   "source": [
    "### Part 3\n",
    "Compute the correlation between Total and HP, as well as between Attack and Speed.\n",
    "Try to visualise the correlations."
   ]
  },
  {
   "cell_type": "code",
   "execution_count": null,
   "id": "7d57d3ed",
   "metadata": {},
   "outputs": [],
   "source": []
  }
 ],
 "metadata": {
  "kernelspec": {
   "display_name": "Python 3 (ipykernel)",
   "language": "python",
   "name": "python3"
  },
  "language_info": {
   "codemirror_mode": {
    "name": "ipython",
    "version": 3
   },
   "file_extension": ".py",
   "mimetype": "text/x-python",
   "name": "python",
   "nbconvert_exporter": "python",
   "pygments_lexer": "ipython3",
   "version": "3.10.12"
  }
 },
 "nbformat": 4,
 "nbformat_minor": 5
}
