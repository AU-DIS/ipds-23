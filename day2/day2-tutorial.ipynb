{
 "cells": [
  {
   "cell_type": "markdown",
   "id": "choice-coast",
   "metadata": {},
   "source": [
    "#  Introduction to Python for Data Science - Exercises 14/9 #\n"
   ]
  },
  {
   "cell_type": "markdown",
   "id": "posted-oracle",
   "metadata": {},
   "source": [
    "The following are exercises for the Introduction to Python for Data Science course, module 2. Try to get through as many as you can, but do not despair if you cannot get through them all within the time frame."
   ]
  },
  {
   "cell_type": "markdown",
   "id": "11d409db",
   "metadata": {},
   "source": [
    "## Part 1: Numpy"
   ]
  },
  {
   "cell_type": "markdown",
   "id": "tired-allowance",
   "metadata": {},
   "source": [
    "### Exercise 1 ###\n",
    "Make sure you have numpy, pandas and matplotlib installed. Import them in the below codebox to be used in the rest of the notebook"
   ]
  },
  {
   "cell_type": "code",
   "execution_count": 4,
   "id": "a6135107",
   "metadata": {
    "tags": []
   },
   "outputs": [],
   "source": [
    "import numpy as np\n",
    "import pandas as pd\n",
    "import matplotlib.pyplot as plt"
   ]
  },
  {
   "cell_type": "markdown",
   "id": "oriental-millennium",
   "metadata": {},
   "source": [
    "### Exercise 2: Random 2D Points ###\n",
    "Use Numpy to generate 20 random points in 2D"
   ]
  },
  {
   "cell_type": "code",
   "execution_count": 21,
   "id": "16c0cf7e",
   "metadata": {
    "tags": []
   },
   "outputs": [
    {
     "name": "stdout",
     "output_type": "stream",
     "text": [
      "[[0.77132064 0.02075195 0.63364823 0.74880388 0.49850701 0.22479665\n",
      "  0.19806286 0.76053071 0.16911084 0.08833981 0.68535982 0.95339335\n",
      "  0.00394827 0.51219226 0.81262096 0.61252607 0.72175532 0.29187607\n",
      "  0.91777412 0.71457578]\n",
      " [0.54254437 0.14217005 0.37334076 0.67413362 0.44183317 0.43401399\n",
      "  0.61776698 0.51313824 0.65039718 0.60103895 0.8052232  0.52164715\n",
      "  0.90864888 0.31923609 0.09045935 0.30070006 0.11398436 0.82868133\n",
      "  0.04689632 0.62628715]]\n"
     ]
    }
   ],
   "source": [
    "np.random.seed(10)\n",
    "points = np.random.random((2,20))\n",
    "print(points)"
   ]
  },
  {
   "cell_type": "markdown",
   "id": "becoming-flight",
   "metadata": {},
   "source": [
    "Use numpy to find the mean and standard deviation of the points"
   ]
  },
  {
   "cell_type": "code",
   "execution_count": 31,
   "id": "6e6c8cd2",
   "metadata": {
    "tags": []
   },
   "outputs": [
    {
     "name": "stdout",
     "output_type": "stream",
     "text": [
      "[0.51699473 0.47760706]\n",
      "[0.30005152 0.24493163]\n"
     ]
    }
   ],
   "source": [
    "print(np.mean(points,axis=1))\n",
    "print(np.std(points,axis=1))\n",
    "print(np.min(points,axis=1))"
   ]
  },
  {
   "cell_type": "markdown",
   "id": "445c9b86",
   "metadata": {},
   "source": [
    "### Exercise 3: Arrays\n",
    "Create a two dimensional numpy array, then print number of dimensions, the shape and the number of elements"
   ]
  },
  {
   "cell_type": "code",
   "execution_count": 43,
   "id": "02e618d3",
   "metadata": {
    "tags": []
   },
   "outputs": [
    {
     "name": "stdout",
     "output_type": "stream",
     "text": [
      "<class 'numpy.ndarray'>\n",
      "<class 'list'>\n",
      "[15.  2.  2.]\n",
      "[[ 0 22 23]\n",
      " [ 1  2  3]\n",
      " [ 1  2  3]]\n"
     ]
    }
   ],
   "source": [
    "points = np.ones((2,20))\n",
    "points2 = np.array(([0,22,23],[1,2,3],[1,2,3]))\n",
    "reg_array = [[0,22,23],[1,2,3],[1,2,3]]\n",
    "print(type(points2))\n",
    "print(type(reg_array))\n",
    "print(np.mean(reg_array,axis=1))\n",
    "print(points2)"
   ]
  },
  {
   "cell_type": "markdown",
   "id": "e5fcc8e4",
   "metadata": {},
   "source": [
    "### Exercise 4: Elementwise operations\n",
    "In an numpy array (you can just reuse from previous exercise), take the square root of each element, take it as the exponent and multiply them by a constant number"
   ]
  },
  {
   "cell_type": "code",
   "execution_count": 50,
   "id": "94011595",
   "metadata": {
    "tags": []
   },
   "outputs": [
    {
     "name": "stdout",
     "output_type": "stream",
     "text": [
      "[[10.         10.         10.         10.         24.49489743 10.\n",
      "  10.         10.         10.         10.         10.         10.\n",
      "  10.         10.         10.         10.         10.         10.\n",
      "  10.         10.        ]\n",
      " [10.         10.         10.         10.         10.         10.\n",
      "  10.         10.         10.         10.         10.         10.\n",
      "  10.         10.         10.         10.         10.         10.\n",
      "  10.         10.        ]]\n"
     ]
    }
   ],
   "source": [
    "points = np.ones((2,20))\n",
    "points[0,4] = 6\n",
    "\n",
    "points = np.sqrt(points)*10\n",
    "print(points)"
   ]
  },
  {
   "cell_type": "markdown",
   "id": "b78d31d4",
   "metadata": {},
   "source": [
    "### Exercise 5: Matrix\n",
    "Create two matrices and then compute the dotwise product (be aware of the matrix shapes)"
   ]
  },
  {
   "cell_type": "code",
   "execution_count": 64,
   "id": "dd2f560f",
   "metadata": {
    "tags": []
   },
   "outputs": [
    {
     "name": "stdout",
     "output_type": "stream",
     "text": [
      "[[0.51678928 0.62614367 0.50505912]\n",
      " [0.90966258 0.41330466 0.53546872]\n",
      " [0.34264313 0.12957678 0.66282175]\n",
      " [0.93567    0.61272918 0.8427385 ]\n",
      " [0.21790844 0.90317174 0.00976998]]\n",
      "[[0.22581273 0.13205513 0.90754295]\n",
      " [0.91023064 0.58105791 0.08749305]\n",
      " [0.11687944 0.77107126 0.73279527]\n",
      " [0.08712836 0.3574632  0.77321162]\n",
      " [0.1314716  0.53783243 0.75472357]]\n",
      "[[1.09492044 1.31267939 1.68761643]\n",
      " [0.70486615 1.12753554 1.85478113]\n",
      " [0.75362994 1.19541939 1.64991411]] \n",
      "\n",
      "\n",
      "\n",
      "[[1.09492044 1.31267939 1.68761643]\n",
      " [0.70486615 1.12753554 1.85478113]\n",
      " [0.75362994 1.19541939 1.64991411]]\n"
     ]
    }
   ],
   "source": [
    "A = np.random.random((5,3))\n",
    "B = np.random.random((5,3))\n",
    "print(A)\n",
    "print(B)\n",
    "print(f'{A.T @ B}')\n",
    "print(np.dot(A.T,B))"
   ]
  },
  {
   "cell_type": "markdown",
   "id": "2ed6cc62",
   "metadata": {},
   "source": [
    "### Exercise 6: Search\n",
    "Check with numpy for all unique places, and then pick one and print the array with boolean values if it matches your choice or it doesn't"
   ]
  },
  {
   "cell_type": "code",
   "execution_count": 5,
   "id": "04603a5e",
   "metadata": {},
   "outputs": [],
   "source": [
    "places = np.array([\"Aarhus\", \"Copenhagen\", \"Aalborg\", \"Aarhus\", \"Odense\", \"Aalborg\", \"Aarhus\"])"
   ]
  },
  {
   "cell_type": "markdown",
   "id": "b6c99a35",
   "metadata": {},
   "source": [
    "### Exercise 7: Indexing\n",
    "Use both the matching and the negation of the fitting place names from last exercise as an index for the random array in this exercise"
   ]
  },
  {
   "cell_type": "code",
   "execution_count": 11,
   "id": "f2d70bed",
   "metadata": {},
   "outputs": [
    {
     "name": "stdout",
     "output_type": "stream",
     "text": [
      "[[0.21533991 0.32040005]\n",
      " [0.52421668 0.03976608]\n",
      " [0.34500988 0.85131779]]\n"
     ]
    }
   ],
   "source": [
    "data = np.random.rand(7,2)"
   ]
  },
  {
   "cell_type": "markdown",
   "id": "696089a3",
   "metadata": {},
   "source": [
    "## Part 2: Pandas"
   ]
  },
  {
   "cell_type": "markdown",
   "id": "limited-store",
   "metadata": {},
   "source": [
    "### Exercise 8: The Pokemon Dataset ###\n",
    "\n",
    "##### Task 1\n",
    "Use pandas to load the dataset Pokemon.csv. Output the first 10 rows of the dataset."
   ]
  },
  {
   "cell_type": "code",
   "execution_count": 112,
   "id": "17694788",
   "metadata": {
    "tags": []
   },
   "outputs": [
    {
     "data": {
      "text/html": [
       "<div>\n",
       "<style scoped>\n",
       "    .dataframe tbody tr th:only-of-type {\n",
       "        vertical-align: middle;\n",
       "    }\n",
       "\n",
       "    .dataframe tbody tr th {\n",
       "        vertical-align: top;\n",
       "    }\n",
       "\n",
       "    .dataframe thead th {\n",
       "        text-align: right;\n",
       "    }\n",
       "</style>\n",
       "<table border=\"1\" class=\"dataframe\">\n",
       "  <thead>\n",
       "    <tr style=\"text-align: right;\">\n",
       "      <th></th>\n",
       "      <th>#</th>\n",
       "      <th>Name</th>\n",
       "      <th>Type_1</th>\n",
       "      <th>Type_2</th>\n",
       "      <th>Total</th>\n",
       "      <th>HP</th>\n",
       "      <th>Attack</th>\n",
       "      <th>Defense</th>\n",
       "      <th>Sp. Atk</th>\n",
       "      <th>Sp. Def</th>\n",
       "      <th>Speed</th>\n",
       "      <th>Generation</th>\n",
       "      <th>Legendary</th>\n",
       "    </tr>\n",
       "  </thead>\n",
       "  <tbody>\n",
       "    <tr>\n",
       "      <th>0</th>\n",
       "      <td>1</td>\n",
       "      <td>Bulbasaur</td>\n",
       "      <td>Grass</td>\n",
       "      <td>Poison</td>\n",
       "      <td>318</td>\n",
       "      <td>45</td>\n",
       "      <td>49</td>\n",
       "      <td>49</td>\n",
       "      <td>65</td>\n",
       "      <td>65</td>\n",
       "      <td>45</td>\n",
       "      <td>1</td>\n",
       "      <td>False</td>\n",
       "    </tr>\n",
       "    <tr>\n",
       "      <th>1</th>\n",
       "      <td>2</td>\n",
       "      <td>Ivysaur</td>\n",
       "      <td>Grass</td>\n",
       "      <td>Poison</td>\n",
       "      <td>405</td>\n",
       "      <td>60</td>\n",
       "      <td>62</td>\n",
       "      <td>63</td>\n",
       "      <td>80</td>\n",
       "      <td>80</td>\n",
       "      <td>60</td>\n",
       "      <td>1</td>\n",
       "      <td>False</td>\n",
       "    </tr>\n",
       "    <tr>\n",
       "      <th>2</th>\n",
       "      <td>3</td>\n",
       "      <td>Venusaur</td>\n",
       "      <td>Grass</td>\n",
       "      <td>Poison</td>\n",
       "      <td>525</td>\n",
       "      <td>80</td>\n",
       "      <td>82</td>\n",
       "      <td>83</td>\n",
       "      <td>100</td>\n",
       "      <td>100</td>\n",
       "      <td>80</td>\n",
       "      <td>1</td>\n",
       "      <td>False</td>\n",
       "    </tr>\n",
       "    <tr>\n",
       "      <th>3</th>\n",
       "      <td>3</td>\n",
       "      <td>VenusaurMega Venusaur</td>\n",
       "      <td>Grass</td>\n",
       "      <td>Poison</td>\n",
       "      <td>625</td>\n",
       "      <td>80</td>\n",
       "      <td>100</td>\n",
       "      <td>123</td>\n",
       "      <td>122</td>\n",
       "      <td>120</td>\n",
       "      <td>80</td>\n",
       "      <td>1</td>\n",
       "      <td>False</td>\n",
       "    </tr>\n",
       "    <tr>\n",
       "      <th>4</th>\n",
       "      <td>4</td>\n",
       "      <td>Charmander</td>\n",
       "      <td>Fire</td>\n",
       "      <td>NaN</td>\n",
       "      <td>309</td>\n",
       "      <td>39</td>\n",
       "      <td>52</td>\n",
       "      <td>43</td>\n",
       "      <td>60</td>\n",
       "      <td>50</td>\n",
       "      <td>65</td>\n",
       "      <td>1</td>\n",
       "      <td>False</td>\n",
       "    </tr>\n",
       "    <tr>\n",
       "      <th>...</th>\n",
       "      <td>...</td>\n",
       "      <td>...</td>\n",
       "      <td>...</td>\n",
       "      <td>...</td>\n",
       "      <td>...</td>\n",
       "      <td>...</td>\n",
       "      <td>...</td>\n",
       "      <td>...</td>\n",
       "      <td>...</td>\n",
       "      <td>...</td>\n",
       "      <td>...</td>\n",
       "      <td>...</td>\n",
       "      <td>...</td>\n",
       "    </tr>\n",
       "    <tr>\n",
       "      <th>795</th>\n",
       "      <td>719</td>\n",
       "      <td>Diancie</td>\n",
       "      <td>Rock</td>\n",
       "      <td>Fairy</td>\n",
       "      <td>600</td>\n",
       "      <td>50</td>\n",
       "      <td>100</td>\n",
       "      <td>150</td>\n",
       "      <td>100</td>\n",
       "      <td>150</td>\n",
       "      <td>50</td>\n",
       "      <td>6</td>\n",
       "      <td>True</td>\n",
       "    </tr>\n",
       "    <tr>\n",
       "      <th>796</th>\n",
       "      <td>719</td>\n",
       "      <td>DiancieMega Diancie</td>\n",
       "      <td>Rock</td>\n",
       "      <td>Fairy</td>\n",
       "      <td>700</td>\n",
       "      <td>50</td>\n",
       "      <td>160</td>\n",
       "      <td>110</td>\n",
       "      <td>160</td>\n",
       "      <td>110</td>\n",
       "      <td>110</td>\n",
       "      <td>6</td>\n",
       "      <td>True</td>\n",
       "    </tr>\n",
       "    <tr>\n",
       "      <th>797</th>\n",
       "      <td>720</td>\n",
       "      <td>HoopaHoopa Confined</td>\n",
       "      <td>Psychic</td>\n",
       "      <td>Ghost</td>\n",
       "      <td>600</td>\n",
       "      <td>80</td>\n",
       "      <td>110</td>\n",
       "      <td>60</td>\n",
       "      <td>150</td>\n",
       "      <td>130</td>\n",
       "      <td>70</td>\n",
       "      <td>6</td>\n",
       "      <td>True</td>\n",
       "    </tr>\n",
       "    <tr>\n",
       "      <th>798</th>\n",
       "      <td>720</td>\n",
       "      <td>HoopaHoopa Unbound</td>\n",
       "      <td>Psychic</td>\n",
       "      <td>Dark</td>\n",
       "      <td>680</td>\n",
       "      <td>80</td>\n",
       "      <td>160</td>\n",
       "      <td>60</td>\n",
       "      <td>170</td>\n",
       "      <td>130</td>\n",
       "      <td>80</td>\n",
       "      <td>6</td>\n",
       "      <td>True</td>\n",
       "    </tr>\n",
       "    <tr>\n",
       "      <th>799</th>\n",
       "      <td>721</td>\n",
       "      <td>Volcanion</td>\n",
       "      <td>Fire</td>\n",
       "      <td>Water</td>\n",
       "      <td>600</td>\n",
       "      <td>80</td>\n",
       "      <td>110</td>\n",
       "      <td>120</td>\n",
       "      <td>130</td>\n",
       "      <td>90</td>\n",
       "      <td>70</td>\n",
       "      <td>6</td>\n",
       "      <td>True</td>\n",
       "    </tr>\n",
       "  </tbody>\n",
       "</table>\n",
       "<p>800 rows × 13 columns</p>\n",
       "</div>"
      ],
      "text/plain": [
       "       #                   Name   Type_1  Type_2  Total  HP  Attack  Defense  \\\n",
       "0      1              Bulbasaur    Grass  Poison    318  45      49       49   \n",
       "1      2                Ivysaur    Grass  Poison    405  60      62       63   \n",
       "2      3               Venusaur    Grass  Poison    525  80      82       83   \n",
       "3      3  VenusaurMega Venusaur    Grass  Poison    625  80     100      123   \n",
       "4      4             Charmander     Fire     NaN    309  39      52       43   \n",
       "..   ...                    ...      ...     ...    ...  ..     ...      ...   \n",
       "795  719                Diancie     Rock   Fairy    600  50     100      150   \n",
       "796  719    DiancieMega Diancie     Rock   Fairy    700  50     160      110   \n",
       "797  720    HoopaHoopa Confined  Psychic   Ghost    600  80     110       60   \n",
       "798  720     HoopaHoopa Unbound  Psychic    Dark    680  80     160       60   \n",
       "799  721              Volcanion     Fire   Water    600  80     110      120   \n",
       "\n",
       "     Sp. Atk  Sp. Def  Speed  Generation  Legendary  \n",
       "0         65       65     45           1      False  \n",
       "1         80       80     60           1      False  \n",
       "2        100      100     80           1      False  \n",
       "3        122      120     80           1      False  \n",
       "4         60       50     65           1      False  \n",
       "..       ...      ...    ...         ...        ...  \n",
       "795      100      150     50           6       True  \n",
       "796      160      110    110           6       True  \n",
       "797      150      130     70           6       True  \n",
       "798      170      130     80           6       True  \n",
       "799      130       90     70           6       True  \n",
       "\n",
       "[800 rows x 13 columns]"
      ]
     },
     "execution_count": 112,
     "metadata": {},
     "output_type": "execute_result"
    }
   ],
   "source": [
    "poke = pd.read_csv(\"../data/Pokemon.csv\")\n",
    "poke"
   ]
  },
  {
   "cell_type": "markdown",
   "id": "resistant-creator",
   "metadata": {},
   "source": [
    "##### Task 2\n",
    "\n",
    "Find all legendary pokemons in the data set"
   ]
  },
  {
   "cell_type": "code",
   "execution_count": 129,
   "id": "3b277b0a",
   "metadata": {
    "tags": []
   },
   "outputs": [
    {
     "data": {
      "text/html": [
       "<div>\n",
       "<style scoped>\n",
       "    .dataframe tbody tr th:only-of-type {\n",
       "        vertical-align: middle;\n",
       "    }\n",
       "\n",
       "    .dataframe tbody tr th {\n",
       "        vertical-align: top;\n",
       "    }\n",
       "\n",
       "    .dataframe thead th {\n",
       "        text-align: right;\n",
       "    }\n",
       "</style>\n",
       "<table border=\"1\" class=\"dataframe\">\n",
       "  <thead>\n",
       "    <tr style=\"text-align: right;\">\n",
       "      <th></th>\n",
       "      <th>#</th>\n",
       "      <th>Name</th>\n",
       "      <th>Type_1</th>\n",
       "      <th>Type_2</th>\n",
       "      <th>Total</th>\n",
       "      <th>HP</th>\n",
       "      <th>Attack</th>\n",
       "      <th>Defense</th>\n",
       "      <th>Sp. Atk</th>\n",
       "      <th>Sp. Def</th>\n",
       "      <th>Speed</th>\n",
       "      <th>Generation</th>\n",
       "      <th>Legendary</th>\n",
       "    </tr>\n",
       "  </thead>\n",
       "  <tbody>\n",
       "    <tr>\n",
       "      <th>158</th>\n",
       "      <td>146</td>\n",
       "      <td>Moltres</td>\n",
       "      <td>Fire</td>\n",
       "      <td>Flying</td>\n",
       "      <td>580</td>\n",
       "      <td>90</td>\n",
       "      <td>100</td>\n",
       "      <td>90</td>\n",
       "      <td>125</td>\n",
       "      <td>85</td>\n",
       "      <td>90</td>\n",
       "      <td>1</td>\n",
       "      <td>True</td>\n",
       "    </tr>\n",
       "    <tr>\n",
       "      <th>263</th>\n",
       "      <td>244</td>\n",
       "      <td>Entei</td>\n",
       "      <td>Fire</td>\n",
       "      <td>NaN</td>\n",
       "      <td>580</td>\n",
       "      <td>115</td>\n",
       "      <td>115</td>\n",
       "      <td>85</td>\n",
       "      <td>90</td>\n",
       "      <td>75</td>\n",
       "      <td>100</td>\n",
       "      <td>2</td>\n",
       "      <td>True</td>\n",
       "    </tr>\n",
       "    <tr>\n",
       "      <th>270</th>\n",
       "      <td>250</td>\n",
       "      <td>Ho-oh</td>\n",
       "      <td>Fire</td>\n",
       "      <td>Flying</td>\n",
       "      <td>680</td>\n",
       "      <td>106</td>\n",
       "      <td>130</td>\n",
       "      <td>90</td>\n",
       "      <td>110</td>\n",
       "      <td>154</td>\n",
       "      <td>90</td>\n",
       "      <td>2</td>\n",
       "      <td>True</td>\n",
       "    </tr>\n",
       "    <tr>\n",
       "      <th>542</th>\n",
       "      <td>485</td>\n",
       "      <td>Heatran</td>\n",
       "      <td>Fire</td>\n",
       "      <td>Steel</td>\n",
       "      <td>600</td>\n",
       "      <td>91</td>\n",
       "      <td>90</td>\n",
       "      <td>106</td>\n",
       "      <td>130</td>\n",
       "      <td>106</td>\n",
       "      <td>77</td>\n",
       "      <td>4</td>\n",
       "      <td>True</td>\n",
       "    </tr>\n",
       "    <tr>\n",
       "      <th>799</th>\n",
       "      <td>721</td>\n",
       "      <td>Volcanion</td>\n",
       "      <td>Fire</td>\n",
       "      <td>Water</td>\n",
       "      <td>600</td>\n",
       "      <td>80</td>\n",
       "      <td>110</td>\n",
       "      <td>120</td>\n",
       "      <td>130</td>\n",
       "      <td>90</td>\n",
       "      <td>70</td>\n",
       "      <td>6</td>\n",
       "      <td>True</td>\n",
       "    </tr>\n",
       "  </tbody>\n",
       "</table>\n",
       "</div>"
      ],
      "text/plain": [
       "       #       Name Type_1  Type_2  Total   HP  Attack  Defense  Sp. Atk  \\\n",
       "158  146    Moltres   Fire  Flying    580   90     100       90      125   \n",
       "263  244      Entei   Fire     NaN    580  115     115       85       90   \n",
       "270  250      Ho-oh   Fire  Flying    680  106     130       90      110   \n",
       "542  485    Heatran   Fire   Steel    600   91      90      106      130   \n",
       "799  721  Volcanion   Fire   Water    600   80     110      120      130   \n",
       "\n",
       "     Sp. Def  Speed  Generation  Legendary  \n",
       "158       85     90           1       True  \n",
       "263       75    100           2       True  \n",
       "270      154     90           2       True  \n",
       "542      106     77           4       True  \n",
       "799       90     70           6       True  "
      ]
     },
     "execution_count": 129,
     "metadata": {},
     "output_type": "execute_result"
    }
   ],
   "source": [
    "poke2 = poke.loc[(poke[\"Type_1\"]=='Fire') ^ ~(poke['Legendary']) ]\n",
    "poke2.loc[(poke2[\"Type_1\"]=='Fire') & (poke2['Legendary']) ]"
   ]
  },
  {
   "cell_type": "markdown",
   "id": "hydraulic-athens",
   "metadata": {},
   "source": [
    "##### Task 3\n",
    "\n",
    "Find the minimum, maximum and average Speed"
   ]
  },
  {
   "cell_type": "code",
   "execution_count": 81,
   "id": "d3195d15",
   "metadata": {
    "tags": []
   },
   "outputs": [
    {
     "name": "stdout",
     "output_type": "stream",
     "text": [
      "68.2775\n",
      "180\n",
      "5\n",
      "65.0\n"
     ]
    },
    {
     "data": {
      "text/html": [
       "<div>\n",
       "<style scoped>\n",
       "    .dataframe tbody tr th:only-of-type {\n",
       "        vertical-align: middle;\n",
       "    }\n",
       "\n",
       "    .dataframe tbody tr th {\n",
       "        vertical-align: top;\n",
       "    }\n",
       "\n",
       "    .dataframe thead th {\n",
       "        text-align: right;\n",
       "    }\n",
       "</style>\n",
       "<table border=\"1\" class=\"dataframe\">\n",
       "  <thead>\n",
       "    <tr style=\"text-align: right;\">\n",
       "      <th></th>\n",
       "      <th>#</th>\n",
       "      <th>Total</th>\n",
       "      <th>HP</th>\n",
       "      <th>Attack</th>\n",
       "      <th>Defense</th>\n",
       "      <th>Sp. Atk</th>\n",
       "      <th>Sp. Def</th>\n",
       "      <th>Speed</th>\n",
       "      <th>Generation</th>\n",
       "    </tr>\n",
       "  </thead>\n",
       "  <tbody>\n",
       "    <tr>\n",
       "      <th>count</th>\n",
       "      <td>800.000000</td>\n",
       "      <td>800.00000</td>\n",
       "      <td>800.000000</td>\n",
       "      <td>800.000000</td>\n",
       "      <td>800.000000</td>\n",
       "      <td>800.000000</td>\n",
       "      <td>800.000000</td>\n",
       "      <td>800.000000</td>\n",
       "      <td>800.00000</td>\n",
       "    </tr>\n",
       "    <tr>\n",
       "      <th>mean</th>\n",
       "      <td>362.813750</td>\n",
       "      <td>435.10250</td>\n",
       "      <td>69.258750</td>\n",
       "      <td>79.001250</td>\n",
       "      <td>73.842500</td>\n",
       "      <td>72.820000</td>\n",
       "      <td>71.902500</td>\n",
       "      <td>68.277500</td>\n",
       "      <td>3.32375</td>\n",
       "    </tr>\n",
       "    <tr>\n",
       "      <th>std</th>\n",
       "      <td>208.343798</td>\n",
       "      <td>119.96304</td>\n",
       "      <td>25.534669</td>\n",
       "      <td>32.457366</td>\n",
       "      <td>31.183501</td>\n",
       "      <td>32.722294</td>\n",
       "      <td>27.828916</td>\n",
       "      <td>29.060474</td>\n",
       "      <td>1.66129</td>\n",
       "    </tr>\n",
       "    <tr>\n",
       "      <th>min</th>\n",
       "      <td>1.000000</td>\n",
       "      <td>180.00000</td>\n",
       "      <td>1.000000</td>\n",
       "      <td>5.000000</td>\n",
       "      <td>5.000000</td>\n",
       "      <td>10.000000</td>\n",
       "      <td>20.000000</td>\n",
       "      <td>5.000000</td>\n",
       "      <td>1.00000</td>\n",
       "    </tr>\n",
       "    <tr>\n",
       "      <th>25%</th>\n",
       "      <td>184.750000</td>\n",
       "      <td>330.00000</td>\n",
       "      <td>50.000000</td>\n",
       "      <td>55.000000</td>\n",
       "      <td>50.000000</td>\n",
       "      <td>49.750000</td>\n",
       "      <td>50.000000</td>\n",
       "      <td>45.000000</td>\n",
       "      <td>2.00000</td>\n",
       "    </tr>\n",
       "    <tr>\n",
       "      <th>50%</th>\n",
       "      <td>364.500000</td>\n",
       "      <td>450.00000</td>\n",
       "      <td>65.000000</td>\n",
       "      <td>75.000000</td>\n",
       "      <td>70.000000</td>\n",
       "      <td>65.000000</td>\n",
       "      <td>70.000000</td>\n",
       "      <td>65.000000</td>\n",
       "      <td>3.00000</td>\n",
       "    </tr>\n",
       "    <tr>\n",
       "      <th>75%</th>\n",
       "      <td>539.250000</td>\n",
       "      <td>515.00000</td>\n",
       "      <td>80.000000</td>\n",
       "      <td>100.000000</td>\n",
       "      <td>90.000000</td>\n",
       "      <td>95.000000</td>\n",
       "      <td>90.000000</td>\n",
       "      <td>90.000000</td>\n",
       "      <td>5.00000</td>\n",
       "    </tr>\n",
       "    <tr>\n",
       "      <th>max</th>\n",
       "      <td>721.000000</td>\n",
       "      <td>780.00000</td>\n",
       "      <td>255.000000</td>\n",
       "      <td>190.000000</td>\n",
       "      <td>230.000000</td>\n",
       "      <td>194.000000</td>\n",
       "      <td>230.000000</td>\n",
       "      <td>180.000000</td>\n",
       "      <td>6.00000</td>\n",
       "    </tr>\n",
       "  </tbody>\n",
       "</table>\n",
       "</div>"
      ],
      "text/plain": [
       "                #      Total          HP      Attack     Defense     Sp. Atk  \\\n",
       "count  800.000000  800.00000  800.000000  800.000000  800.000000  800.000000   \n",
       "mean   362.813750  435.10250   69.258750   79.001250   73.842500   72.820000   \n",
       "std    208.343798  119.96304   25.534669   32.457366   31.183501   32.722294   \n",
       "min      1.000000  180.00000    1.000000    5.000000    5.000000   10.000000   \n",
       "25%    184.750000  330.00000   50.000000   55.000000   50.000000   49.750000   \n",
       "50%    364.500000  450.00000   65.000000   75.000000   70.000000   65.000000   \n",
       "75%    539.250000  515.00000   80.000000  100.000000   90.000000   95.000000   \n",
       "max    721.000000  780.00000  255.000000  190.000000  230.000000  194.000000   \n",
       "\n",
       "          Sp. Def       Speed  Generation  \n",
       "count  800.000000  800.000000   800.00000  \n",
       "mean    71.902500   68.277500     3.32375  \n",
       "std     27.828916   29.060474     1.66129  \n",
       "min     20.000000    5.000000     1.00000  \n",
       "25%     50.000000   45.000000     2.00000  \n",
       "50%     70.000000   65.000000     3.00000  \n",
       "75%     90.000000   90.000000     5.00000  \n",
       "max    230.000000  180.000000     6.00000  "
      ]
     },
     "execution_count": 81,
     "metadata": {},
     "output_type": "execute_result"
    }
   ],
   "source": [
    "print(poke[\"Speed\"].mean())\n",
    "print(poke[\"Speed\"].max())\n",
    "print(poke[\"Speed\"].min())\n",
    "print(poke[\"Speed\"].median())\n",
    "poke.describe()\n"
   ]
  },
  {
   "cell_type": "markdown",
   "id": "center-elder",
   "metadata": {},
   "source": [
    "##### Task 4\n",
    "\n",
    "Compare the mean HP of the different primary types"
   ]
  },
  {
   "cell_type": "code",
   "execution_count": 123,
   "id": "93e0346d",
   "metadata": {
    "tags": []
   },
   "outputs": [
    {
     "data": {
      "text/plain": [
       "Type_2\n",
       "Bug         45.0\n",
       "Dark        70.0\n",
       "Dragon      79.0\n",
       "Electric    87.5\n",
       "Fairy       57.0\n",
       "Fighting    80.0\n",
       "Fire        67.5\n",
       "Flying      70.0\n",
       "Ghost       59.0\n",
       "Grass       60.0\n",
       "Ground      75.0\n",
       "Ice         90.0\n",
       "Normal      62.0\n",
       "Poison      60.0\n",
       "Psychic     70.0\n",
       "Rock        65.0\n",
       "Steel       70.0\n",
       "Water       65.0\n",
       "NaN         65.0\n",
       "Name: HP, dtype: float64"
      ]
     },
     "execution_count": 123,
     "metadata": {},
     "output_type": "execute_result"
    }
   ],
   "source": [
    "poke = pd.read_csv(\"../data/Pokemon.csv\")\n",
    "poke.groupby(\"Type_2\",dropna=False)[\"HP\"].median()"
   ]
  },
  {
   "cell_type": "markdown",
   "id": "contrary-stack",
   "metadata": {},
   "source": [
    "##### Task 5\n",
    "\n",
    "Some Pokemons have no secondary type. We don't want NaN in our DataFrame (it may give nasty errors!) so replace these instances with \"NA\" (Not Applicable)."
   ]
  },
  {
   "cell_type": "code",
   "execution_count": 116,
   "id": "0950658f",
   "metadata": {
    "tags": []
   },
   "outputs": [
    {
     "data": {
      "text/html": [
       "<div>\n",
       "<style scoped>\n",
       "    .dataframe tbody tr th:only-of-type {\n",
       "        vertical-align: middle;\n",
       "    }\n",
       "\n",
       "    .dataframe tbody tr th {\n",
       "        vertical-align: top;\n",
       "    }\n",
       "\n",
       "    .dataframe thead th {\n",
       "        text-align: right;\n",
       "    }\n",
       "</style>\n",
       "<table border=\"1\" class=\"dataframe\">\n",
       "  <thead>\n",
       "    <tr style=\"text-align: right;\">\n",
       "      <th></th>\n",
       "      <th>#</th>\n",
       "      <th>Name</th>\n",
       "      <th>Type_1</th>\n",
       "      <th>Type_2</th>\n",
       "      <th>Total</th>\n",
       "      <th>HP</th>\n",
       "      <th>Attack</th>\n",
       "      <th>Defense</th>\n",
       "      <th>Sp. Atk</th>\n",
       "      <th>Sp. Def</th>\n",
       "      <th>Speed</th>\n",
       "      <th>Generation</th>\n",
       "      <th>Legendary</th>\n",
       "    </tr>\n",
       "  </thead>\n",
       "  <tbody>\n",
       "    <tr>\n",
       "      <th>0</th>\n",
       "      <td>1</td>\n",
       "      <td>Bulbasaur</td>\n",
       "      <td>Grass</td>\n",
       "      <td>Poison</td>\n",
       "      <td>318</td>\n",
       "      <td>45</td>\n",
       "      <td>49</td>\n",
       "      <td>49</td>\n",
       "      <td>65</td>\n",
       "      <td>65</td>\n",
       "      <td>45</td>\n",
       "      <td>1</td>\n",
       "      <td>False</td>\n",
       "    </tr>\n",
       "    <tr>\n",
       "      <th>1</th>\n",
       "      <td>2</td>\n",
       "      <td>Ivysaur</td>\n",
       "      <td>Grass</td>\n",
       "      <td>Poison</td>\n",
       "      <td>405</td>\n",
       "      <td>60</td>\n",
       "      <td>62</td>\n",
       "      <td>63</td>\n",
       "      <td>80</td>\n",
       "      <td>80</td>\n",
       "      <td>60</td>\n",
       "      <td>1</td>\n",
       "      <td>False</td>\n",
       "    </tr>\n",
       "    <tr>\n",
       "      <th>2</th>\n",
       "      <td>3</td>\n",
       "      <td>Venusaur</td>\n",
       "      <td>Grass</td>\n",
       "      <td>Poison</td>\n",
       "      <td>525</td>\n",
       "      <td>80</td>\n",
       "      <td>82</td>\n",
       "      <td>83</td>\n",
       "      <td>100</td>\n",
       "      <td>100</td>\n",
       "      <td>80</td>\n",
       "      <td>1</td>\n",
       "      <td>False</td>\n",
       "    </tr>\n",
       "    <tr>\n",
       "      <th>3</th>\n",
       "      <td>3</td>\n",
       "      <td>VenusaurMega Venusaur</td>\n",
       "      <td>Grass</td>\n",
       "      <td>Poison</td>\n",
       "      <td>625</td>\n",
       "      <td>80</td>\n",
       "      <td>100</td>\n",
       "      <td>123</td>\n",
       "      <td>122</td>\n",
       "      <td>120</td>\n",
       "      <td>80</td>\n",
       "      <td>1</td>\n",
       "      <td>False</td>\n",
       "    </tr>\n",
       "    <tr>\n",
       "      <th>4</th>\n",
       "      <td>4</td>\n",
       "      <td>Charmander</td>\n",
       "      <td>Fire</td>\n",
       "      <td>10</td>\n",
       "      <td>309</td>\n",
       "      <td>39</td>\n",
       "      <td>52</td>\n",
       "      <td>43</td>\n",
       "      <td>60</td>\n",
       "      <td>50</td>\n",
       "      <td>65</td>\n",
       "      <td>1</td>\n",
       "      <td>False</td>\n",
       "    </tr>\n",
       "    <tr>\n",
       "      <th>...</th>\n",
       "      <td>...</td>\n",
       "      <td>...</td>\n",
       "      <td>...</td>\n",
       "      <td>...</td>\n",
       "      <td>...</td>\n",
       "      <td>...</td>\n",
       "      <td>...</td>\n",
       "      <td>...</td>\n",
       "      <td>...</td>\n",
       "      <td>...</td>\n",
       "      <td>...</td>\n",
       "      <td>...</td>\n",
       "      <td>...</td>\n",
       "    </tr>\n",
       "    <tr>\n",
       "      <th>795</th>\n",
       "      <td>719</td>\n",
       "      <td>Diancie</td>\n",
       "      <td>Rock</td>\n",
       "      <td>Fairy</td>\n",
       "      <td>600</td>\n",
       "      <td>50</td>\n",
       "      <td>100</td>\n",
       "      <td>150</td>\n",
       "      <td>100</td>\n",
       "      <td>150</td>\n",
       "      <td>50</td>\n",
       "      <td>6</td>\n",
       "      <td>True</td>\n",
       "    </tr>\n",
       "    <tr>\n",
       "      <th>796</th>\n",
       "      <td>719</td>\n",
       "      <td>DiancieMega Diancie</td>\n",
       "      <td>Rock</td>\n",
       "      <td>Fairy</td>\n",
       "      <td>700</td>\n",
       "      <td>50</td>\n",
       "      <td>160</td>\n",
       "      <td>110</td>\n",
       "      <td>160</td>\n",
       "      <td>110</td>\n",
       "      <td>110</td>\n",
       "      <td>6</td>\n",
       "      <td>True</td>\n",
       "    </tr>\n",
       "    <tr>\n",
       "      <th>797</th>\n",
       "      <td>720</td>\n",
       "      <td>HoopaHoopa Confined</td>\n",
       "      <td>Psychic</td>\n",
       "      <td>Ghost</td>\n",
       "      <td>600</td>\n",
       "      <td>80</td>\n",
       "      <td>110</td>\n",
       "      <td>60</td>\n",
       "      <td>150</td>\n",
       "      <td>130</td>\n",
       "      <td>70</td>\n",
       "      <td>6</td>\n",
       "      <td>True</td>\n",
       "    </tr>\n",
       "    <tr>\n",
       "      <th>798</th>\n",
       "      <td>720</td>\n",
       "      <td>HoopaHoopa Unbound</td>\n",
       "      <td>Psychic</td>\n",
       "      <td>Dark</td>\n",
       "      <td>680</td>\n",
       "      <td>80</td>\n",
       "      <td>160</td>\n",
       "      <td>60</td>\n",
       "      <td>170</td>\n",
       "      <td>130</td>\n",
       "      <td>80</td>\n",
       "      <td>6</td>\n",
       "      <td>True</td>\n",
       "    </tr>\n",
       "    <tr>\n",
       "      <th>799</th>\n",
       "      <td>721</td>\n",
       "      <td>Volcanion</td>\n",
       "      <td>Fire</td>\n",
       "      <td>Water</td>\n",
       "      <td>600</td>\n",
       "      <td>80</td>\n",
       "      <td>110</td>\n",
       "      <td>120</td>\n",
       "      <td>130</td>\n",
       "      <td>90</td>\n",
       "      <td>70</td>\n",
       "      <td>6</td>\n",
       "      <td>True</td>\n",
       "    </tr>\n",
       "  </tbody>\n",
       "</table>\n",
       "<p>800 rows × 13 columns</p>\n",
       "</div>"
      ],
      "text/plain": [
       "       #                   Name   Type_1  Type_2  Total  HP  Attack  Defense  \\\n",
       "0      1              Bulbasaur    Grass  Poison    318  45      49       49   \n",
       "1      2                Ivysaur    Grass  Poison    405  60      62       63   \n",
       "2      3               Venusaur    Grass  Poison    525  80      82       83   \n",
       "3      3  VenusaurMega Venusaur    Grass  Poison    625  80     100      123   \n",
       "4      4             Charmander     Fire      10    309  39      52       43   \n",
       "..   ...                    ...      ...     ...    ...  ..     ...      ...   \n",
       "795  719                Diancie     Rock   Fairy    600  50     100      150   \n",
       "796  719    DiancieMega Diancie     Rock   Fairy    700  50     160      110   \n",
       "797  720    HoopaHoopa Confined  Psychic   Ghost    600  80     110       60   \n",
       "798  720     HoopaHoopa Unbound  Psychic    Dark    680  80     160       60   \n",
       "799  721              Volcanion     Fire   Water    600  80     110      120   \n",
       "\n",
       "     Sp. Atk  Sp. Def  Speed  Generation  Legendary  \n",
       "0         65       65     45           1      False  \n",
       "1         80       80     60           1      False  \n",
       "2        100      100     80           1      False  \n",
       "3        122      120     80           1      False  \n",
       "4         60       50     65           1      False  \n",
       "..       ...      ...    ...         ...        ...  \n",
       "795      100      150     50           6       True  \n",
       "796      160      110    110           6       True  \n",
       "797      150      130     70           6       True  \n",
       "798      170      130     80           6       True  \n",
       "799      130       90     70           6       True  \n",
       "\n",
       "[800 rows x 13 columns]"
      ]
     },
     "execution_count": 116,
     "metadata": {},
     "output_type": "execute_result"
    }
   ],
   "source": [
    "poke = pd.read_csv(\"../data/Pokemon.csv\")\n",
    "poke[\"Type_2\"] = poke[\"Type_2\"].fillna(10)\n",
    "poke"
   ]
  },
  {
   "cell_type": "markdown",
   "id": "beff7786",
   "metadata": {},
   "source": [
    "##### Task 6\n",
    "Rename the 'Speed' column to 'movement'"
   ]
  },
  {
   "cell_type": "code",
   "execution_count": 109,
   "id": "9353fb62",
   "metadata": {
    "tags": []
   },
   "outputs": [],
   "source": [
    "poke = pd.read_csv(\"../data/Pokemon.csv\")\n",
    "poke = poke.rename(columns={'Speed': \"Movement\", 'HP':'Health'}, inplace=True)\n",
    "poke"
   ]
  },
  {
   "cell_type": "markdown",
   "id": "treated-hanging",
   "metadata": {},
   "source": [
    "### Exercise 9: Merging two DataFrames ###\n",
    "Below are two DataFrames of albums. Merge them into one DataFrame, that has two coloumns: \"name\" and \"year\"."
   ]
  },
  {
   "cell_type": "code",
   "execution_count": null,
   "id": "still-stage",
   "metadata": {},
   "outputs": [],
   "source": [
    "floyd_albums = pd.DataFrame({\n",
    "    \"album\": [\"Atom Heart Mother\", \"The Dark Side of the Moon\", \"Wish You Were Here\", \"The Wall\"],\n",
    "    \"year\": [1970,1973,1975,1979]\n",
    "})\n",
    "\n",
    "crimson_albums = pd.DataFrame({\n",
    "    \"name\": [\"In The Court of the Crimson King\",\"Lizard\", \"Larks' Tongues in Aspic\", \"Red\", \"Discipline\"], \n",
    "    \"released\": [1969, 1970, 1973, 1974, 1981]\n",
    "})\n",
    "\n",
    "### YOUR CODE HERE ###"
   ]
  },
  {
   "cell_type": "markdown",
   "id": "9f61b278",
   "metadata": {},
   "source": [
    "## Part 3: Matplotlib"
   ]
  },
  {
   "cell_type": "markdown",
   "id": "c8e627fe",
   "metadata": {},
   "source": [
    "### Exercise 10: Random 2D Points ###\n",
    "Use Numpy to generate 20 random points in 2D, and plot them using matplotlib"
   ]
  },
  {
   "cell_type": "code",
   "execution_count": null,
   "id": "78a9ec80",
   "metadata": {},
   "outputs": [],
   "source": []
  },
  {
   "cell_type": "markdown",
   "id": "satellite-darkness",
   "metadata": {},
   "source": [
    "### Exercise 11: Plot Pokemeon\n",
    "Make a bar plot of the number of pokemons in each generation"
   ]
  },
  {
   "cell_type": "code",
   "execution_count": null,
   "id": "90fd3101",
   "metadata": {},
   "outputs": [],
   "source": []
  },
  {
   "cell_type": "markdown",
   "id": "6857d620",
   "metadata": {},
   "source": [
    "### Exercise 12: Plot Albums\n",
    "Create a pie chart of the amount of albums released per year from exercise 9"
   ]
  },
  {
   "cell_type": "code",
   "execution_count": null,
   "id": "c085ebc0",
   "metadata": {},
   "outputs": [],
   "source": []
  },
  {
   "cell_type": "markdown",
   "id": "df4f85de",
   "metadata": {},
   "source": [
    "### Exercise 13: Wine Dataset\n",
    "First run the code below, then print a plot of the points with the 'sulphates' and 'alcohol' columns. Color the two different qualities 4 and 8 differently"
   ]
  },
  {
   "cell_type": "code",
   "execution_count": 21,
   "id": "4ac93df0",
   "metadata": {},
   "outputs": [],
   "source": [
    "wq = pd.read_csv(\"../data/winequality-red.csv\", sep=';')\n",
    "toy = wq[wq['quality'].isin([4, 8])].sample(n=20)"
   ]
  },
  {
   "cell_type": "markdown",
   "id": "37075dd7",
   "metadata": {},
   "source": [
    "### Exercise 14: Design\n",
    "\n",
    "##### Task 1\n",
    "Write a code to plot the given two lines with different styles."
   ]
  },
  {
   "cell_type": "code",
   "execution_count": 27,
   "id": "f0e095f6",
   "metadata": {},
   "outputs": [],
   "source": [
    "# line 1 points\n",
    "x1 = [10,20,30]\n",
    "y1 = [20,40,10]\n",
    "# line 2 points\n",
    "x2 = [10,20,30]\n",
    "y2 = [40,10,30]"
   ]
  },
  {
   "cell_type": "markdown",
   "id": "d04d8262",
   "metadata": {},
   "source": [
    "##### Task 2\n",
    "Write a code to plot the given two lines with different styles and set the markers, then plot also just the markers"
   ]
  },
  {
   "cell_type": "code",
   "execution_count": null,
   "id": "99be9f1a",
   "metadata": {},
   "outputs": [],
   "source": []
  },
  {
   "cell_type": "markdown",
   "id": "98069173",
   "metadata": {},
   "source": [
    "##### Task 3\n",
    "Add labels descriptions to the two lines and a title for the plot"
   ]
  },
  {
   "cell_type": "code",
   "execution_count": null,
   "id": "fc77c424",
   "metadata": {},
   "outputs": [],
   "source": []
  },
  {
   "cell_type": "markdown",
   "id": "fccac26e",
   "metadata": {},
   "source": [
    "##### Task 4\n",
    "Give the plot a grid"
   ]
  },
  {
   "cell_type": "code",
   "execution_count": null,
   "id": "6d4fbc9f",
   "metadata": {},
   "outputs": [],
   "source": []
  },
  {
   "cell_type": "markdown",
   "id": "tropical-township",
   "metadata": {},
   "source": [
    "### Exercise 15: Flags with matplot\n",
    "The code below calculates an outer product that, when plottet, resembles the Danish flag. Find two vectors which outer product resembles the Austrian flag"
   ]
  },
  {
   "cell_type": "code",
   "execution_count": null,
   "id": "mature-jumping",
   "metadata": {},
   "outputs": [],
   "source": [
    "v = np.array([1.0, 1.0, 0.0, 1.0, 1.0])\n",
    "w = np.array([1.0, 1.0, 0.0, 1.0, 1.0, 1.0])\n",
    "plt.matshow(np.outer(v, w), cmap='Reds', clim=(0, 1.5))"
   ]
  },
  {
   "cell_type": "code",
   "execution_count": null,
   "id": "e3276af8",
   "metadata": {},
   "outputs": [],
   "source": []
  }
 ],
 "metadata": {
  "kernelspec": {
   "display_name": "Python 3 (ipykernel)",
   "language": "python",
   "name": "python3"
  },
  "language_info": {
   "codemirror_mode": {
    "name": "ipython",
    "version": 3
   },
   "file_extension": ".py",
   "mimetype": "text/x-python",
   "name": "python",
   "nbconvert_exporter": "python",
   "pygments_lexer": "ipython3",
   "version": "3.10.12"
  }
 },
 "nbformat": 4,
 "nbformat_minor": 5
}
