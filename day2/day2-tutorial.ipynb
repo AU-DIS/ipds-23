{
 "cells": [
  {
   "cell_type": "markdown",
   "id": "choice-coast",
   "metadata": {},
   "source": [
    "#  Introduction to Python for Data Science - Exercises 14/9 #\n"
   ]
  },
  {
   "cell_type": "markdown",
   "id": "posted-oracle",
   "metadata": {},
   "source": [
    "The following are exercises for the Introduction to Python for Data Science course, module 2. Try to get through as many as you can, but do not despair if you cannot get through them all within the time frame."
   ]
  },
  {
   "cell_type": "markdown",
   "id": "11d409db",
   "metadata": {},
   "source": [
    "## Part 1: Numpy"
   ]
  },
  {
   "cell_type": "markdown",
   "id": "tired-allowance",
   "metadata": {},
   "source": [
    "### Exercise 1 ###\n",
    "Make sure you have numpy, pandas and matplotlib installed. Import them in the below codebox to be used in the rest of the notebook"
   ]
  },
  {
   "cell_type": "code",
   "execution_count": null,
   "id": "a6135107",
   "metadata": {},
   "outputs": [],
   "source": []
  },
  {
   "cell_type": "markdown",
   "id": "oriental-millennium",
   "metadata": {},
   "source": [
    "### Exercise 2: Random 2D Points ###\n",
    "Use Numpy to generate 20 random points in 2D"
   ]
  },
  {
   "cell_type": "code",
   "execution_count": null,
   "id": "16c0cf7e",
   "metadata": {},
   "outputs": [],
   "source": []
  },
  {
   "cell_type": "markdown",
   "id": "becoming-flight",
   "metadata": {},
   "source": [
    "Use numpy to find the mean and standard deviation of the points"
   ]
  },
  {
   "cell_type": "code",
   "execution_count": null,
   "id": "6e6c8cd2",
   "metadata": {},
   "outputs": [],
   "source": []
  },
  {
   "cell_type": "markdown",
   "id": "445c9b86",
   "metadata": {},
   "source": [
    "### Exercise 3: Arrays\n",
    "Create a two dimensional numpy array, then print number of dimensions, the shape and the number of elements"
   ]
  },
  {
   "cell_type": "code",
   "execution_count": null,
   "id": "02e618d3",
   "metadata": {},
   "outputs": [],
   "source": []
  },
  {
   "cell_type": "markdown",
   "id": "e5fcc8e4",
   "metadata": {},
   "source": [
    "### Exercise 4: Elementwise operations\n",
    "In an numpy array (you can just reuse from previous exercise), take the square root of each element, take it as the exponent and multiply them by a constant number"
   ]
  },
  {
   "cell_type": "code",
   "execution_count": null,
   "id": "94011595",
   "metadata": {},
   "outputs": [],
   "source": []
  },
  {
   "cell_type": "markdown",
   "id": "b78d31d4",
   "metadata": {},
   "source": [
    "### Exercise 5: Matrix\n",
    "Create two matrices and then compute the dotwise product (be aware of the matrix shapes)"
   ]
  },
  {
   "cell_type": "code",
   "execution_count": null,
   "id": "dd2f560f",
   "metadata": {},
   "outputs": [],
   "source": []
  },
  {
   "cell_type": "markdown",
   "id": "2ed6cc62",
   "metadata": {},
   "source": [
    "### Exercise 6: Search\n",
    "Check with numpy for all unique places, and then pick one and print the array with boolean values if it matches your choice or it doesn't"
   ]
  },
  {
   "cell_type": "code",
   "execution_count": 5,
   "id": "04603a5e",
   "metadata": {},
   "outputs": [],
   "source": [
    "places = np.array([\"Aarhus\", \"Copenhagen\", \"Aalborg\", \"Aarhus\", \"Odense\", \"Aalborg\", \"Aarhus\"])"
   ]
  },
  {
   "cell_type": "markdown",
   "id": "b6c99a35",
   "metadata": {},
   "source": [
    "### Exercise 7: Indexing\n",
    "Use both the matching and the negation of the fitting place names from last exercise as an index for the random array in this exercise"
   ]
  },
  {
   "cell_type": "code",
   "execution_count": 11,
   "id": "f2d70bed",
   "metadata": {},
   "outputs": [
    {
     "name": "stdout",
     "output_type": "stream",
     "text": [
      "[[0.21533991 0.32040005]\n",
      " [0.52421668 0.03976608]\n",
      " [0.34500988 0.85131779]]\n"
     ]
    }
   ],
   "source": [
    "data = np.random.rand(7,2)"
   ]
  },
  {
   "cell_type": "markdown",
   "id": "696089a3",
   "metadata": {},
   "source": [
    "## Part 2: Pandas"
   ]
  },
  {
   "cell_type": "markdown",
   "id": "limited-store",
   "metadata": {},
   "source": [
    "### Exercise 8: The Pokemon Dataset ###\n",
    "\n",
    "##### Task 1\n",
    "Use pandas to load the dataset Pokemon.csv. Output the first 10 rows of the dataset."
   ]
  },
  {
   "cell_type": "code",
   "execution_count": null,
   "id": "17694788",
   "metadata": {},
   "outputs": [],
   "source": []
  },
  {
   "cell_type": "markdown",
   "id": "resistant-creator",
   "metadata": {},
   "source": [
    "##### Task 2\n",
    "\n",
    "Find all legendary pokemons in the data set"
   ]
  },
  {
   "cell_type": "code",
   "execution_count": null,
   "id": "3b277b0a",
   "metadata": {},
   "outputs": [],
   "source": []
  },
  {
   "cell_type": "markdown",
   "id": "hydraulic-athens",
   "metadata": {},
   "source": [
    "##### Task 3\n",
    "\n",
    "Find the minimum, maximum and average Speed"
   ]
  },
  {
   "cell_type": "code",
   "execution_count": null,
   "id": "d3195d15",
   "metadata": {},
   "outputs": [],
   "source": []
  },
  {
   "cell_type": "markdown",
   "id": "center-elder",
   "metadata": {},
   "source": [
    "##### Task 4\n",
    "\n",
    "Compare the mean HP of the different primary types"
   ]
  },
  {
   "cell_type": "code",
   "execution_count": null,
   "id": "93e0346d",
   "metadata": {},
   "outputs": [],
   "source": []
  },
  {
   "cell_type": "markdown",
   "id": "contrary-stack",
   "metadata": {},
   "source": [
    "##### Task 5\n",
    "\n",
    "Some Pokemons have no secondary type. We don't want NaN in our DataFrame (it may give nasty errors!) so replace these instances with \"NA\" (Not Applicable)."
   ]
  },
  {
   "cell_type": "code",
   "execution_count": null,
   "id": "0950658f",
   "metadata": {},
   "outputs": [],
   "source": []
  },
  {
   "cell_type": "markdown",
   "id": "beff7786",
   "metadata": {},
   "source": [
    "##### Task 6\n",
    "Rename the 'Speed' column to 'movement'"
   ]
  },
  {
   "cell_type": "code",
   "execution_count": null,
   "id": "9353fb62",
   "metadata": {},
   "outputs": [],
   "source": []
  },
  {
   "cell_type": "markdown",
   "id": "treated-hanging",
   "metadata": {},
   "source": [
    "### Exercise 9: Merging two DataFrames ###\n",
    "Below are two DataFrames of albums. Merge them into one DataFrame, that has two coloumns: \"name\" and \"year\"."
   ]
  },
  {
   "cell_type": "code",
   "execution_count": null,
   "id": "still-stage",
   "metadata": {},
   "outputs": [],
   "source": [
    "floyd_albums = pd.DataFrame({\n",
    "    \"album\": [\"Atom Heart Mother\", \"The Dark Side of the Moon\", \"Wish You Were Here\", \"The Wall\"],\n",
    "    \"year\": [1970,1973,1975,1979]\n",
    "})\n",
    "\n",
    "crimson_albums = pd.DataFrame({\n",
    "    \"name\": [\"In The Court of the Crimson King\",\"Lizard\", \"Larks' Tongues in Aspic\", \"Red\", \"Discipline\"], \n",
    "    \"released\": [1969, 1970, 1973, 1974, 1981]\n",
    "})\n",
    "\n",
    "### YOUR CODE HERE ###"
   ]
  },
  {
   "cell_type": "markdown",
   "id": "9f61b278",
   "metadata": {},
   "source": [
    "## Part 3: Matplotlib"
   ]
  },
  {
   "cell_type": "markdown",
   "id": "c8e627fe",
   "metadata": {},
   "source": [
    "### Exercise 10: Random 2D Points ###\n",
    "Use Numpy to generate 20 random points in 2D, and plot them using matplotlib"
   ]
  },
  {
   "cell_type": "code",
   "execution_count": null,
   "id": "78a9ec80",
   "metadata": {},
   "outputs": [],
   "source": []
  },
  {
   "cell_type": "markdown",
   "id": "satellite-darkness",
   "metadata": {},
   "source": [
    "### Exercise 11: Plot Pokemeon\n",
    "Make a bar plot of the number of pokemons in each generation"
   ]
  },
  {
   "cell_type": "code",
   "execution_count": null,
   "id": "90fd3101",
   "metadata": {},
   "outputs": [],
   "source": []
  },
  {
   "cell_type": "markdown",
   "id": "6857d620",
   "metadata": {},
   "source": [
    "### Exercise 12: Plot Albums\n",
    "Create a pie chart of the amount of albums released per year from exercise 9"
   ]
  },
  {
   "cell_type": "code",
   "execution_count": null,
   "id": "c085ebc0",
   "metadata": {},
   "outputs": [],
   "source": []
  },
  {
   "cell_type": "markdown",
   "id": "df4f85de",
   "metadata": {},
   "source": [
    "### Exercise 13: Wine Dataset\n",
    "First run the code below, then print a plot of the points with the 'sulphates' and 'alcohol' columns. Color the two different qualities 4 and 8 differently"
   ]
  },
  {
   "cell_type": "code",
   "execution_count": 21,
   "id": "4ac93df0",
   "metadata": {},
   "outputs": [],
   "source": [
    "wq = pd.read_csv(\"../data/winequality-red.csv\", sep=';')\n",
    "toy = wq[wq['quality'].isin([4, 8])].sample(n=20)"
   ]
  },
  {
   "cell_type": "markdown",
   "id": "37075dd7",
   "metadata": {},
   "source": [
    "### Exercise 14: Design\n",
    "\n",
    "##### Task 1\n",
    "Write a code to plot the given two lines with different styles."
   ]
  },
  {
   "cell_type": "code",
   "execution_count": 27,
   "id": "f0e095f6",
   "metadata": {},
   "outputs": [],
   "source": [
    "# line 1 points\n",
    "x1 = [10,20,30]\n",
    "y1 = [20,40,10]\n",
    "# line 2 points\n",
    "x2 = [10,20,30]\n",
    "y2 = [40,10,30]"
   ]
  },
  {
   "cell_type": "markdown",
   "id": "d04d8262",
   "metadata": {},
   "source": [
    "##### Task 2\n",
    "Write a code to plot the given two lines with different styles and set the markers, then plot also just the markers"
   ]
  },
  {
   "cell_type": "code",
   "execution_count": null,
   "id": "99be9f1a",
   "metadata": {},
   "outputs": [],
   "source": []
  },
  {
   "cell_type": "markdown",
   "id": "98069173",
   "metadata": {},
   "source": [
    "##### Task 3\n",
    "Add labels descriptions to the two lines and a title for the plot"
   ]
  },
  {
   "cell_type": "code",
   "execution_count": null,
   "id": "fc77c424",
   "metadata": {},
   "outputs": [],
   "source": []
  },
  {
   "cell_type": "markdown",
   "id": "fccac26e",
   "metadata": {},
   "source": [
    "##### Task 4\n",
    "Give the plot a grid"
   ]
  },
  {
   "cell_type": "code",
   "execution_count": null,
   "id": "6d4fbc9f",
   "metadata": {},
   "outputs": [],
   "source": []
  },
  {
   "cell_type": "markdown",
   "id": "tropical-township",
   "metadata": {},
   "source": [
    "### Exercise 15: Flags with matplot\n",
    "The code below calculates an outer product that, when plottet, resembles the Danish flag. Find two vectors which outer product resembles the Austrian flag"
   ]
  },
  {
   "cell_type": "code",
   "execution_count": null,
   "id": "mature-jumping",
   "metadata": {},
   "outputs": [],
   "source": [
    "v = np.array([1.0, 1.0, 0.0, 1.0, 1.0])\n",
    "w = np.array([1.0, 1.0, 0.0, 1.0, 1.0, 1.0])\n",
    "plt.matshow(np.outer(v, w), cmap='Reds', clim=(0, 1.5))"
   ]
  },
  {
   "cell_type": "code",
   "execution_count": null,
   "id": "e3276af8",
   "metadata": {},
   "outputs": [],
   "source": []
  }
 ],
 "metadata": {
  "kernelspec": {
   "display_name": "Python 3 (ipykernel)",
   "language": "python",
   "name": "python3"
  },
  "language_info": {
   "codemirror_mode": {
    "name": "ipython",
    "version": 3
   },
   "file_extension": ".py",
   "mimetype": "text/x-python",
   "name": "python",
   "nbconvert_exporter": "python",
   "pygments_lexer": "ipython3",
   "version": "3.10.12"
  }
 },
 "nbformat": 4,
 "nbformat_minor": 5
}
