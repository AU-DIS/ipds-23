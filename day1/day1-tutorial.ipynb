{
 "cells": [
  {
   "cell_type": "markdown",
   "id": "angry-packaging",
   "metadata": {},
   "source": [
    "#  Introduction to Python for Data Science - Exercises 11/9  #"
   ]
  },
  {
   "cell_type": "markdown",
   "id": "compatible-stuart",
   "metadata": {},
   "source": [
    "The following are exercises for the Introduction to Python for Data Science course, module 1. Try to get through as many as you can, but do not despair if you cannot get through them all within the time frame."
   ]
  },
  {
   "cell_type": "markdown",
   "id": "911a01ea",
   "metadata": {},
   "source": [
    "## Part 1: variables and operators"
   ]
  },
  {
   "cell_type": "markdown",
   "id": "coral-rubber",
   "metadata": {},
   "source": [
    "### Exercise 1: Hello World! ###\n",
    "\n",
    "In the codebox below, write a Python program that prints out \"Hello World!\""
   ]
  },
  {
   "cell_type": "code",
   "execution_count": null,
   "id": "0adbd0fc",
   "metadata": {},
   "outputs": [],
   "source": []
  },
  {
   "cell_type": "markdown",
   "id": "qualified-comfort",
   "metadata": {},
   "source": [
    "### Exercise 2: Simple Calculator ###\n",
    "Use Python as a simple calculator. You do **not** need to create a calculator with python! Just make the computations directly with python and print their results. Try addition, multiplication, subtraction, division and exponation.<br>\n",
    "E.g. 4+5, 2*7, etc.<br>\n",
    "Also try float division ' / '  and integer division ' // '"
   ]
  },
  {
   "cell_type": "code",
   "execution_count": null,
   "id": "3e36f16e",
   "metadata": {},
   "outputs": [],
   "source": []
  },
  {
   "cell_type": "markdown",
   "id": "3e2a075a",
   "metadata": {},
   "source": [
    "### Exercise 3: Variable calculator\n",
    "Try the same as in Ex2, but assign the numbers first to a variable and then perform the calculaton on the variables"
   ]
  },
  {
   "cell_type": "code",
   "execution_count": null,
   "id": "896f815c",
   "metadata": {},
   "outputs": [],
   "source": []
  },
  {
   "cell_type": "markdown",
   "id": "21278982",
   "metadata": {},
   "source": [
    "### Exercise 4: String manipulation\n",
    "Create 3 different strings and then concatenate them together. In the end just print the string from the the start of the second original string."
   ]
  },
  {
   "cell_type": "code",
   "execution_count": null,
   "id": "c6ebd123",
   "metadata": {},
   "outputs": [],
   "source": []
  },
  {
   "cell_type": "markdown",
   "id": "4acaa23e",
   "metadata": {},
   "source": [
    "### Exercise 5: String formatting\n",
    "Create a template string with formatting, in which you introduce yourself and how old you are.<br>\n",
    "template being 'Hi, my name is [name] and I am [age] years old' E.g. 'Hi, my name is Maximilian and I am 26 years old'"
   ]
  },
  {
   "cell_type": "code",
   "execution_count": null,
   "id": "77e9fd24",
   "metadata": {},
   "outputs": [],
   "source": []
  },
  {
   "cell_type": "markdown",
   "id": "a7958d10",
   "metadata": {},
   "source": [
    "### Exercise 6: Boolean operations\n",
    "With two variables 'a' and 'b', print all combinations of True and False with the 'and' and 'or' <br>\n",
    "After you have done that, try more variables and even more operators, get comfortable with boolean operations!"
   ]
  },
  {
   "cell_type": "code",
   "execution_count": null,
   "id": "8383fa6b",
   "metadata": {},
   "outputs": [],
   "source": []
  },
  {
   "cell_type": "markdown",
   "id": "02f3e2d2",
   "metadata": {},
   "source": [
    "### Exercise 7: Comparisons\n",
    "Make some variables and compare if they are the same, lower, higher, same type"
   ]
  },
  {
   "cell_type": "code",
   "execution_count": null,
   "id": "b4bf665c",
   "metadata": {},
   "outputs": [],
   "source": []
  },
  {
   "cell_type": "markdown",
   "id": "479b44cb",
   "metadata": {},
   "source": [
    "## Part 2: Control statements"
   ]
  },
  {
   "cell_type": "markdown",
   "id": "trained-librarian",
   "metadata": {},
   "source": [
    "### Exercise 8: Magic spell ###\n",
    "Write a program that takes an integer n as input, and prints \"Abracadabra\" n times."
   ]
  },
  {
   "cell_type": "code",
   "execution_count": null,
   "id": "acknowledged-victoria",
   "metadata": {},
   "outputs": [],
   "source": [
    "n = int(input())\n",
    "### YOUR CODE HERE ###"
   ]
  },
  {
   "cell_type": "markdown",
   "id": "c03da97b",
   "metadata": {},
   "source": [
    "### Exercise 9: Grading\n",
    "Write code that returns a:<br>\n",
    "- 12 if the points between 100 and 90\n",
    "- 10 if the points between 89 and 80\n",
    "- 7  if the points between 79 and 70\n",
    "- 4  if the points between 69 and 60\n",
    "- 02 if the points between 59 and 50\n",
    "- 0  if the points between 49 and 40\n",
    "- -3 if the points between 39 and 0"
   ]
  },
  {
   "cell_type": "code",
   "execution_count": null,
   "id": "78e00901",
   "metadata": {},
   "outputs": [],
   "source": []
  },
  {
   "cell_type": "markdown",
   "id": "complicated-conditioning",
   "metadata": {},
   "source": [
    "### Exercise 10: Fizzbuzz ###\n",
    "Write a program that plays the game FizzBuzz - print the numbers from 1 to 20, but replace numbers divisible by 3 with \"Fizz\", numbers divisible by 5 with \"Buzz\", and if the number is divisible by both 3 and 5, replace it with \"FizzBuzz\".\n",
    "\n",
    "Hint: Use the modulo operator % to test divisibility."
   ]
  },
  {
   "cell_type": "code",
   "execution_count": null,
   "id": "7735eb20",
   "metadata": {},
   "outputs": [],
   "source": []
  },
  {
   "cell_type": "markdown",
   "id": "482228cf",
   "metadata": {},
   "source": [
    "## Part 3: Collections"
   ]
  },
  {
   "cell_type": "markdown",
   "id": "e7f8bc05",
   "metadata": {},
   "source": [
    "### Exercise 11: Modify list\n",
    "Create a list with the 5 elements 'dwarf, elf, human, giant, pixie' inside and then append 2 other elements 'centaur, goblin' to that list"
   ]
  },
  {
   "cell_type": "code",
   "execution_count": null,
   "id": "b44a6e9c",
   "metadata": {},
   "outputs": [],
   "source": []
  },
  {
   "cell_type": "markdown",
   "id": "c0c52ad0",
   "metadata": {},
   "source": [
    "### Exercise 12: Check list\n",
    "Check if 'dragon' is in the list or if it is not in the list from Ex10"
   ]
  },
  {
   "cell_type": "markdown",
   "id": "moved-nevada",
   "metadata": {},
   "source": [
    "### Exercise 13: Albums ###\n",
    "Sort the following list of albums in alphabetical order:"
   ]
  },
  {
   "cell_type": "code",
   "execution_count": null,
   "id": "happy-sampling",
   "metadata": {},
   "outputs": [],
   "source": [
    "albums = [\"In The Court of the Crimson King\",\"Lizard\", \"Larks' Tongues in Aspic\", \"Red\", \"Discipline\"]\n",
    "### YOUR CODE HERE ###"
   ]
  },
  {
   "cell_type": "markdown",
   "id": "caroline-messaging",
   "metadata": {},
   "source": [
    "These albums were released in 1969, 1970, 1973, 1974 and 1981, respectively. Create a dictionary with release year as keys, and album titles as values. Print the album corresponding to 1970 to check your answer."
   ]
  },
  {
   "cell_type": "code",
   "execution_count": null,
   "id": "06412faa",
   "metadata": {},
   "outputs": [],
   "source": []
  },
  {
   "cell_type": "markdown",
   "id": "covered-theme",
   "metadata": {},
   "source": [
    "### Exercise 14: Dogs Dinner ###\n",
    "\n",
    "Write a program that takes two strings as input. Swap the first two characters of the two strings, and print the result.\n",
    "\n",
    "Ex: \"dogs\", \"dinner\" $\\rightarrow$ \"digs donner\""
   ]
  },
  {
   "cell_type": "code",
   "execution_count": null,
   "id": "979d34d0",
   "metadata": {},
   "outputs": [],
   "source": []
  },
  {
   "cell_type": "markdown",
   "id": "b5be825e",
   "metadata": {},
   "source": [
    "### Exercise 15: Set operations\n",
    "Give the intersection, union and difference between the two sets of class points"
   ]
  },
  {
   "cell_type": "code",
   "execution_count": null,
   "id": "94e2118e",
   "metadata": {},
   "outputs": [],
   "source": [
    "class_1 = {3,9,20,23,28,30,10,17,19}\n",
    "class_2 = {1,5,14,10,22,8,19,12,23,20,2}\n",
    "### YOUR CODE HERE ###"
   ]
  },
  {
   "cell_type": "markdown",
   "id": "dae8ba19",
   "metadata": {},
   "source": [
    "### Exercise 17: Enumerate and Zip\n",
    "Make two lists and then zip them together and use enumerate on both lists seperatly"
   ]
  },
  {
   "cell_type": "code",
   "execution_count": null,
   "id": "cfb1b072",
   "metadata": {},
   "outputs": [],
   "source": []
  },
  {
   "cell_type": "markdown",
   "id": "81cc3931",
   "metadata": {},
   "source": [
    "## Part 4: Functions, error handling"
   ]
  },
  {
   "cell_type": "markdown",
   "id": "associate-orleans",
   "metadata": {},
   "source": [
    "### Exercise 18: List Product ###\n",
    "You can use the Python function sum() to add all elements of a list together. Write a similar function that multiplies all elements of a list together. Test your function on the below list"
   ]
  },
  {
   "cell_type": "code",
   "execution_count": null,
   "id": "reported-tucson",
   "metadata": {},
   "outputs": [],
   "source": [
    "my_list = [3, 4, 7, 10, 2, 4, 5]\n",
    "### YOUR CODE HERE ###"
   ]
  },
  {
   "cell_type": "markdown",
   "id": "60fbd8dd",
   "metadata": {},
   "source": [
    "### Exercise 19: Greeting function\n",
    "Write a function, that takes a name as an input and then greets that person with a nice message"
   ]
  },
  {
   "cell_type": "code",
   "execution_count": null,
   "id": "1b603063",
   "metadata": {},
   "outputs": [],
   "source": []
  },
  {
   "cell_type": "markdown",
   "id": "688d024f",
   "metadata": {},
   "source": [
    "### Exercise 20: Shapes\n",
    "Write a function, that takes two inputs. The first determines the number of layers it has and the second deciding the shape (triangle or square) made out of '*'.\n",
    "<br>\n",
    "E.g. input '3, square':<br><br>\n",
    "***<br>\n",
    "***<br>\n",
    "***<br><br>\n",
    "or <br><br>\n",
    "input '4, triangle':<br><br>\n",
    "*<br>\n",
    "**<br>\n",
    "***<br>\n",
    "****<br>"
   ]
  },
  {
   "cell_type": "markdown",
   "id": "exclusive-mistake",
   "metadata": {},
   "source": [
    "### Exercise 21: Division by Zero ###\n",
    "The below codebox crashes. Use try/except to rewrite the division function to handle the exception and print \"Division by zero\" instead"
   ]
  },
  {
   "cell_type": "code",
   "execution_count": null,
   "id": "9460d8ea",
   "metadata": {},
   "outputs": [],
   "source": []
  },
  {
   "cell_type": "markdown",
   "id": "illegal-registrar",
   "metadata": {},
   "source": [
    "### Exercise 22: Write and Run a Python File ###\n",
    "Write a python file \"my_file\", in which you import the function foo from util.py. Use this function on the string \"foo\" and print the result. Any text-editing tool works, but if you want, you can try the [PyCharm IDE](https://www.jetbrains.com/pycharm/) which most python programmers use.\n",
    "\n",
    "Run the python file in the command line by typing \"python my_file.py\" (if you get an error, try \"python3 my_file.py\""
   ]
  },
  {
   "cell_type": "code",
   "execution_count": null,
   "id": "25b79f48",
   "metadata": {},
   "outputs": [],
   "source": []
  }
 ],
 "metadata": {
  "kernelspec": {
   "display_name": "Python 3 (ipykernel)",
   "language": "python",
   "name": "python3"
  },
  "language_info": {
   "codemirror_mode": {
    "name": "ipython",
    "version": 3
   },
   "file_extension": ".py",
   "mimetype": "text/x-python",
   "name": "python",
   "nbconvert_exporter": "python",
   "pygments_lexer": "ipython3",
   "version": "3.10.12"
  }
 },
 "nbformat": 4,
 "nbformat_minor": 5
}
