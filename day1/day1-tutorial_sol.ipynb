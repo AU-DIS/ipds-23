{
 "cells": [
  {
   "cell_type": "markdown",
   "id": "angry-packaging",
   "metadata": {},
   "source": [
    "#  Introduction to Python for Data Science - Exercises 11/9  #"
   ]
  },
  {
   "cell_type": "markdown",
   "id": "compatible-stuart",
   "metadata": {},
   "source": [
    "The following are exercises for the Introduction to Python for Data Science course, module 1. Try to get through as many as you can, but do not despair if you cannot get through them all within the time frame."
   ]
  },
  {
   "cell_type": "markdown",
   "id": "911a01ea",
   "metadata": {},
   "source": [
    "## Part 1: variables and operators"
   ]
  },
  {
   "cell_type": "markdown",
   "id": "coral-rubber",
   "metadata": {},
   "source": [
    "### Exercise 1: Hello World! ###\n",
    "\n",
    "In the codebox below, write a Python program that prints out \"Hello World!\""
   ]
  },
  {
   "cell_type": "code",
   "execution_count": 1,
   "id": "mental-storage",
   "metadata": {
    "scrolled": true
   },
   "outputs": [
    {
     "name": "stdout",
     "output_type": "stream",
     "text": [
      "Hello World!\n"
     ]
    }
   ],
   "source": [
    "print(\"Hello World!\")"
   ]
  },
  {
   "cell_type": "markdown",
   "id": "qualified-comfort",
   "metadata": {},
   "source": [
    "### Exercise 2: Simple Calculator ###\n",
    "Use Python as a simple calculator. You do **not** need to create a calculator with python! Just make the computations directly with python and print their results. Try addition, multiplication, subtraction, division and exponation.<br>\n",
    "E.g. 4+5, 2*7, etc.<br>\n",
    "Also try float division ' / '  and integer division ' // '"
   ]
  },
  {
   "cell_type": "code",
   "execution_count": 8,
   "id": "necessary-imperial",
   "metadata": {},
   "outputs": [
    {
     "name": "stdout",
     "output_type": "stream",
     "text": [
      "5\n",
      "6\n",
      "-1\n",
      "0.6666666666666666\n",
      "0\n",
      "8\n"
     ]
    }
   ],
   "source": [
    "print(2 + 3)\n",
    "print(2 * 3)\n",
    "print(2 - 3)\n",
    "print(2 / 3) #Float division\n",
    "print(2 // 3) #Integer division\n",
    "print(2 ** 3)"
   ]
  },
  {
   "cell_type": "markdown",
   "id": "3e2a075a",
   "metadata": {},
   "source": [
    "### Exercise 3: Variable calculator\n",
    "Try the same as in Ex2, but assign the numbers first to a variable and then perform the calculaton on the variables"
   ]
  },
  {
   "cell_type": "code",
   "execution_count": 1,
   "id": "4be535ac",
   "metadata": {},
   "outputs": [
    {
     "name": "stdout",
     "output_type": "stream",
     "text": [
      "28\n",
      "0.21739130434782608\n"
     ]
    }
   ],
   "source": [
    "a = 5\n",
    "b = 23\n",
    "\n",
    "print(a + b)\n",
    "print(a / b)"
   ]
  },
  {
   "cell_type": "markdown",
   "id": "21278982",
   "metadata": {},
   "source": [
    "### Exercise 4: String manipulation\n",
    "Create 3 different strings and then concatenate them together. In the end just print the string from the the start of the second original string."
   ]
  },
  {
   "cell_type": "code",
   "execution_count": 6,
   "id": "cd3a8504",
   "metadata": {},
   "outputs": [
    {
     "name": "stdout",
     "output_type": "stream",
     "text": [
      "Homesweethome\n",
      "sweethome\n",
      "['s', 'w', 'e', 'e', 't', 'h', 'o', 'm', 'e']\n"
     ]
    }
   ],
   "source": [
    "fs = 'Home'\n",
    "ss = 'sweet'\n",
    "ts = 'home'\n",
    "res = fs + ss +ts\n",
    "print(res)\n",
    "print(res[len(fs):])\n",
    "# or as seen in lecture part\n",
    "print(list(res)[len(fs):])"
   ]
  },
  {
   "cell_type": "markdown",
   "id": "4acaa23e",
   "metadata": {},
   "source": [
    "### Exercise 5: String formatting\n",
    "Create a template string with formatting, in which you introduce yourself and how old you are.<br>\n",
    "template being 'Hi, my name is [name] and I am [age] years old' E.g. 'Hi, my name is Maximilian and I am 26 years old'"
   ]
  },
  {
   "cell_type": "code",
   "execution_count": 8,
   "id": "ec35de5a",
   "metadata": {},
   "outputs": [
    {
     "name": "stdout",
     "output_type": "stream",
     "text": [
      "Hi, my name is Maximilian and I am 26 years old\n"
     ]
    }
   ],
   "source": [
    "template = 'Hi, my name is {0:s} and I am {1:d} years old'\n",
    "print(template.format('Maximilian', 26))"
   ]
  },
  {
   "cell_type": "markdown",
   "id": "a7958d10",
   "metadata": {},
   "source": [
    "### Exercise 6: Boolean operations\n",
    "With two variables 'a' and 'b', print all combinations of True and False with the 'and' and 'or' <br>\n",
    "After you have done that, try more variables and even more operators, get comfortable with boolean operations!"
   ]
  },
  {
   "cell_type": "code",
   "execution_count": 3,
   "id": "a69f0fa9",
   "metadata": {},
   "outputs": [
    {
     "name": "stdout",
     "output_type": "stream",
     "text": [
      "False\n",
      "True\n",
      "False\n",
      "True\n",
      "True\n",
      "False\n",
      "True\n",
      "True\n"
     ]
    }
   ],
   "source": [
    "a = True\n",
    "b = False\n",
    "\n",
    "print(a and b)\n",
    "print(a and a)\n",
    "print(b and b)\n",
    "\n",
    "print(a or b)\n",
    "print(a or a)\n",
    "print(b or b)\n",
    "\n",
    "# You can even make bigger things\n",
    "print((not (a and b)) and (not (not a and not b))) # XOR, so True if only a or b are true"
   ]
  },
  {
   "cell_type": "markdown",
   "id": "02f3e2d2",
   "metadata": {},
   "source": [
    "### Exercise 7: Comparisons\n",
    "Make some variables and compare if they are the same, lower, higher, same type"
   ]
  },
  {
   "cell_type": "code",
   "execution_count": 5,
   "id": "94bbc0dc",
   "metadata": {},
   "outputs": [
    {
     "name": "stdout",
     "output_type": "stream",
     "text": [
      "False\n",
      "<class 'float'>\n",
      "<class 'int'>\n",
      "False\n"
     ]
    }
   ],
   "source": [
    "ph = 7.5\n",
    "\n",
    "threshold = 8\n",
    "\n",
    "print(ph > threshold)\n",
    "\n",
    "print(type(ph))\n",
    "print(type(threshold))\n",
    "print(type(ph)==type(threshold))"
   ]
  },
  {
   "cell_type": "markdown",
   "id": "479b44cb",
   "metadata": {},
   "source": [
    "## Part 2: Control statements"
   ]
  },
  {
   "cell_type": "markdown",
   "id": "trained-librarian",
   "metadata": {},
   "source": [
    "### Exercise 8: Magic spell ###\n",
    "Write a program that takes an integer n as input, and prints \"Abracadabra\" n times."
   ]
  },
  {
   "cell_type": "code",
   "execution_count": 11,
   "id": "acknowledged-victoria",
   "metadata": {},
   "outputs": [
    {
     "name": "stdout",
     "output_type": "stream",
     "text": [
      "7\n",
      "Abracadabra\n",
      "Abracadabra\n",
      "Abracadabra\n",
      "Abracadabra\n",
      "Abracadabra\n",
      "Abracadabra\n",
      "Abracadabra\n"
     ]
    }
   ],
   "source": [
    "n = int(input())\n",
    "### YOUR CODE HERE ###\n",
    "for i in range(n):\n",
    "    print(\"Abracadabra\")\n",
    "### YOUR CODE HERE ###"
   ]
  },
  {
   "cell_type": "markdown",
   "id": "c03da97b",
   "metadata": {},
   "source": [
    "### Exercise 9: Grading\n",
    "Write code that returns a:<br>\n",
    "- 12 if the points between 100 and 90\n",
    "- 10 if the points between 89 and 80\n",
    "- 7  if the points between 79 and 70\n",
    "- 4  if the points between 69 and 60\n",
    "- 02 if the points between 59 and 50\n",
    "- 0  if the points between 49 and 40\n",
    "- -3 if the points between 39 and 0"
   ]
  },
  {
   "cell_type": "code",
   "execution_count": 4,
   "id": "a2aa6ab2",
   "metadata": {},
   "outputs": [
    {
     "name": "stdout",
     "output_type": "stream",
     "text": [
      "-3\n"
     ]
    }
   ],
   "source": [
    "points = 27\n",
    "\n",
    "if points < 40: \n",
    "    print('-3')\n",
    "elif points < 50: \n",
    "    print('0')\n",
    "elif points < 60: \n",
    "    print('02')\n",
    "elif points < 70: \n",
    "    print('4')\n",
    "elif points < 80: \n",
    "    print('7')\n",
    "elif points < 90: \n",
    "    print('10')\n",
    "else: \n",
    "    print('12')"
   ]
  },
  {
   "cell_type": "markdown",
   "id": "complicated-conditioning",
   "metadata": {},
   "source": [
    "### Exercise 10: Fizzbuzz ###\n",
    "Write a program that plays the game FizzBuzz - print the numbers from 1 to 20, but replace numbers divisible by 3 with \"Fizz\", numbers divisible by 5 with \"Buzz\", and if the number is divisible by both 3 and 5, replace it with \"FizzBuzz\".\n",
    "\n",
    "Hint: Use the modulo operator % to test divisibility."
   ]
  },
  {
   "cell_type": "code",
   "execution_count": 17,
   "id": "recovered-ethics",
   "metadata": {},
   "outputs": [
    {
     "name": "stdout",
     "output_type": "stream",
     "text": [
      "1\n",
      "2\n",
      "Fizz\n",
      "4\n",
      "Buzz\n",
      "Fizz\n",
      "7\n",
      "8\n",
      "Fizz\n",
      "Buzz\n",
      "11\n",
      "Fizz\n",
      "13\n",
      "14\n",
      "FizzBuzz\n",
      "16\n",
      "17\n",
      "Fizz\n",
      "19\n",
      "Buzz\n"
     ]
    }
   ],
   "source": [
    "for i in range(1,21):\n",
    "    if i % 3 == 0 and i % 5 == 0:\n",
    "        print(\"FizzBuzz\")\n",
    "    elif i % 3 == 0:\n",
    "        print(\"Fizz\")\n",
    "    elif i % 5 == 0:\n",
    "        print(\"Buzz\")\n",
    "    else:\n",
    "        print(i)"
   ]
  },
  {
   "cell_type": "markdown",
   "id": "482228cf",
   "metadata": {},
   "source": [
    "## Part 3: Collections"
   ]
  },
  {
   "cell_type": "markdown",
   "id": "e7f8bc05",
   "metadata": {},
   "source": [
    "### Exercise 11: Modify list\n",
    "Create a list with the 5 elements 'dwarf, elf, human, giant, pixie' inside and then append 2 other elements 'centaur, goblin' to that list"
   ]
  },
  {
   "cell_type": "code",
   "execution_count": 11,
   "id": "25d4b9e7",
   "metadata": {},
   "outputs": [
    {
     "name": "stdout",
     "output_type": "stream",
     "text": [
      "['dwarf', 'elf', 'human', 'giant', 'pixie', 'centaur', 'goblin']\n"
     ]
    }
   ],
   "source": [
    "lis = ['dwarf','elf','human','giant','pixie']\n",
    "lis.append('centaur')\n",
    "lis.append('goblin')\n",
    "print(lis)"
   ]
  },
  {
   "cell_type": "markdown",
   "id": "c0c52ad0",
   "metadata": {},
   "source": [
    "### Exercise 12: Check list\n",
    "Check if 'dragon' is in the list or if it is not in the list from Ex10"
   ]
  },
  {
   "cell_type": "code",
   "execution_count": 14,
   "id": "07cfa384",
   "metadata": {},
   "outputs": [
    {
     "data": {
      "text/plain": [
       "True"
      ]
     },
     "execution_count": 14,
     "metadata": {},
     "output_type": "execute_result"
    }
   ],
   "source": [
    "drag ='dragon'\n",
    "print(drag in lis)\n",
    "print(drag is not lis)"
   ]
  },
  {
   "cell_type": "markdown",
   "id": "moved-nevada",
   "metadata": {},
   "source": [
    "### Exercise 13: Albums ###\n",
    "Sort the following list of albums in alphabetical order:"
   ]
  },
  {
   "cell_type": "code",
   "execution_count": 10,
   "id": "happy-sampling",
   "metadata": {},
   "outputs": [
    {
     "name": "stdout",
     "output_type": "stream",
     "text": [
      "['Discipline', 'In The Court of the Crimson King', \"Larks' Tongues in Aspic\", 'Lizard', 'Red']\n"
     ]
    }
   ],
   "source": [
    "albums = [\"In The Court of the Crimson King\",\"Lizard\", \"Larks' Tongues in Aspic\", \"Red\", \"Discipline\"]\n",
    "\n",
    "### YOUR CODE HERE ###\n",
    "sorted_albums = sorted(albums)\n",
    "print(sorted_albums)"
   ]
  },
  {
   "cell_type": "markdown",
   "id": "caroline-messaging",
   "metadata": {},
   "source": [
    "These albums were released in 1969, 1970, 1973, 1974 and 1981, respectively. Create a dictionary with release year as keys, and album titles as values. Print the album corresponding to 1970 to check your answer."
   ]
  },
  {
   "cell_type": "code",
   "execution_count": 11,
   "id": "gothic-nigeria",
   "metadata": {},
   "outputs": [
    {
     "name": "stdout",
     "output_type": "stream",
     "text": [
      "Lizard\n"
     ]
    }
   ],
   "source": [
    "albums_by_year = {1969: \"In The Court of the Crimson King\", \n",
    "                  1970: \"Lizard\", \n",
    "                  1973: \"Larks' Tongues in Aspic\", \n",
    "                  1974: \"Red\", \n",
    "                  1981: \"Discipline\"}\n",
    "print(albums_by_year[1970])\n",
    "\n",
    "# Or to create a dict automatically from two lists, IF the ordering is the same!\n",
    "albums = [\"In The Court of the Crimson King\",\"Lizard\", \"Larks' Tongues in Aspic\", \"Red\", \"Discipline\"]\n",
    "years = [1969, 1970, 1973, 1974, 1981]\n",
    "\n",
    "alb_years = dict()\n",
    "\n",
    "for i in range(len(years)):\n",
    "    alb_years[years[i]] = albums[i]\n",
    "print(alb_years)"
   ]
  },
  {
   "cell_type": "markdown",
   "id": "covered-theme",
   "metadata": {},
   "source": [
    "### Exercise 14: Dogs Dinner ###\n",
    "\n",
    "Write a program that takes two strings as input. Swap the first two characters of the two strings, and print the result.\n",
    "\n",
    "Ex: \"dogs\", \"dinner\" $\\rightarrow$ \"digs donner\""
   ]
  },
  {
   "cell_type": "code",
   "execution_count": 21,
   "id": "sweet-shoot",
   "metadata": {},
   "outputs": [
    {
     "name": "stdout",
     "output_type": "stream",
     "text": [
      "dogs\n",
      "dinner\n",
      "digs donner\n"
     ]
    }
   ],
   "source": [
    "a = input()\n",
    "b = input()\n",
    "c = b[:2] + a[2:]\n",
    "d = a[:2] + b[2:]\n",
    "print(c + \" \" + d)"
   ]
  },
  {
   "cell_type": "markdown",
   "id": "b5be825e",
   "metadata": {},
   "source": [
    "### Exercise 15: Set operations\n",
    "Give the intersection, union and difference between the two sets of class points"
   ]
  },
  {
   "cell_type": "code",
   "execution_count": null,
   "id": "94e2118e",
   "metadata": {},
   "outputs": [],
   "source": [
    "class_1 = {3,9,20,23,28,30,10,17,19}\n",
    "class_2 = {1,5,14,10,22,8,19,12,23,20,2}\n",
    "\n",
    "res = class_1.intersection(class_2)\n",
    "print(res)\n",
    "\n",
    "res = class_1.union(class_2)\n",
    "print(res)\n",
    "\n",
    "test_set1 = {\"maximilian\"}\n",
    "test_set2 = {\"Maximilian\"}\n",
    "print(test_set1.intersection(test_set2))"
   ]
  },
  {
   "cell_type": "markdown",
   "id": "dae8ba19",
   "metadata": {},
   "source": [
    "### Exercise 17: Enumerate and Zip\n",
    "Make two lists and then zip them together and use enumerate on both lists seperatly"
   ]
  },
  {
   "cell_type": "code",
   "execution_count": 16,
   "id": "1e7f5966",
   "metadata": {},
   "outputs": [
    {
     "name": "stdout",
     "output_type": "stream",
     "text": [
      "0: foo\n",
      "1: bar\n",
      "2: baz\n",
      "0: one\n",
      "1: two\n",
      "2: three\n"
     ]
    }
   ],
   "source": [
    "seq1 = [\"foo\", \"bar\", \"baz\"]\n",
    "seq2 = [\"one\", \"two\", \"three\"]\n",
    "zipped = zip(seq1, seq2)\n",
    "list(zipped)\n",
    "\n",
    "for index, a in enumerate(seq1):\n",
    "    print(f\"{index}: {a}\")\n",
    "\n",
    "for index, a in enumerate(seq2):\n",
    "    print(f\"{index}: {a}\")"
   ]
  },
  {
   "cell_type": "markdown",
   "id": "81cc3931",
   "metadata": {},
   "source": [
    "## Part 4: Functions, error handling"
   ]
  },
  {
   "cell_type": "markdown",
   "id": "associate-orleans",
   "metadata": {},
   "source": [
    "### Exercise 18: List Product ###\n",
    "You can use the Python function sum() to add all elements of a list together. Write a similar function that multiplies all elements of a list together. Test your function on the below list"
   ]
  },
  {
   "cell_type": "code",
   "execution_count": 19,
   "id": "reported-tucson",
   "metadata": {},
   "outputs": [
    {
     "name": "stdout",
     "output_type": "stream",
     "text": [
      "33600\n"
     ]
    }
   ],
   "source": [
    "my_list = [3, 4, 7, 10, 2, 4, 5]\n",
    "\n",
    "### YOUR CODE HERE ###\n",
    "\n",
    "def prod(lst):\n",
    "    res = 1\n",
    "    for i in lst:\n",
    "        res = res*i\n",
    "    return res\n",
    "\n",
    "print(prod(my_list))"
   ]
  },
  {
   "cell_type": "markdown",
   "id": "60fbd8dd",
   "metadata": {},
   "source": [
    "### Exercise 19: Greeting function\n",
    "Write a function, that takes a name as an input and then greets that person with a nice message"
   ]
  },
  {
   "cell_type": "code",
   "execution_count": 19,
   "id": "73aa16fa",
   "metadata": {},
   "outputs": [
    {
     "name": "stdout",
     "output_type": "stream",
     "text": [
      "Hello Frodo, very nice to meet you. You have my axe\n"
     ]
    }
   ],
   "source": [
    "def greeting(name):\n",
    "    print(f'Hello {name}, very nice to meet you. You have my axe!')\n",
    "\n",
    "greeting('Frodo')"
   ]
  },
  {
   "cell_type": "markdown",
   "id": "688d024f",
   "metadata": {},
   "source": [
    "### Exercise 20: Shapes\n",
    "Write a function, that takes two inputs. The first determines the number of layers it has and the second deciding the shape (triangle or square) made out of '*'.\n",
    "<br>\n",
    "E.g. input '3, square':<br><br>\n",
    "***<br>\n",
    "***<br>\n",
    "***<br><br>\n",
    "or <br><br>\n",
    "input '4, triangle':<br><br>\n",
    "*<br>\n",
    "**<br>\n",
    "***<br>\n",
    "****<br>"
   ]
  },
  {
   "cell_type": "code",
   "execution_count": 24,
   "id": "87e6d1ff",
   "metadata": {},
   "outputs": [
    {
     "name": "stdout",
     "output_type": "stream",
     "text": [
      "*\n",
      "**\n",
      "*****\n",
      "*****\n",
      "*****\n",
      "*****\n",
      "*****\n"
     ]
    }
   ],
   "source": [
    "def shape(n, sh):\n",
    "    if sh == 'triangle':\n",
    "        for i in range(n):\n",
    "            print('*'*(i+1))\n",
    "    if sh == 'square':\n",
    "        for i in range(n):\n",
    "            print('*'*n)\n",
    "\n",
    "shape(2, 'triangle')\n",
    "shape(5, 'square')"
   ]
  },
  {
   "cell_type": "markdown",
   "id": "exclusive-mistake",
   "metadata": {},
   "source": [
    "### Exercise 21: Division by Zero ###\n",
    "The below codebox crashes. Use try/except to rewrite the division function to handle the exception and print \"Division by zero\" instead"
   ]
  },
  {
   "cell_type": "markdown",
   "id": "7ff34a33",
   "metadata": {},
   "source": []
  },
  {
   "cell_type": "code",
   "execution_count": 41,
   "id": "refined-occasions",
   "metadata": {},
   "outputs": [
    {
     "name": "stdout",
     "output_type": "stream",
     "text": [
      "Division by Zero\n"
     ]
    }
   ],
   "source": [
    "def division(n, d):\n",
    "    return n/d\n",
    "\n",
    "def division(n, d):\n",
    "    try:\n",
    "        return n/d\n",
    "    except ZeroDivisionError:\n",
    "        print(\"Division by Zero\")\n",
    "\n",
    "division(1, 0)"
   ]
  },
  {
   "cell_type": "markdown",
   "id": "illegal-registrar",
   "metadata": {},
   "source": [
    "### Exercise 22: Write and Run a Python File ###\n",
    "Write a python file \"my_file\", in which you import the function foo from util.py. Use this function on the string \"foo\" and print the result. Any text-editing tool works, but if you want, you can try the [PyCharm IDE](https://www.jetbrains.com/pycharm/) which most python programmers use.\n",
    "\n",
    "Run the python file in the command line by typing \"python my_file.py\" (if you get an error, try \"python3 my_file.py\""
   ]
  },
  {
   "cell_type": "code",
   "execution_count": 6,
   "id": "2d8c287f",
   "metadata": {},
   "outputs": [
    {
     "data": {
      "text/plain": [
       "'Testbar'"
      ]
     },
     "execution_count": 6,
     "metadata": {},
     "output_type": "execute_result"
    }
   ],
   "source": [
    "# The code from the python file would look like:\n",
    "\n",
    "import util\n",
    "\n",
    "util.foo(\"Test\")"
   ]
  }
 ],
 "metadata": {
  "kernelspec": {
   "display_name": "Python 3 (ipykernel)",
   "language": "python",
   "name": "python3"
  },
  "language_info": {
   "codemirror_mode": {
    "name": "ipython",
    "version": 3
   },
   "file_extension": ".py",
   "mimetype": "text/x-python",
   "name": "python",
   "nbconvert_exporter": "python",
   "pygments_lexer": "ipython3",
   "version": "3.10.12"
  }
 },
 "nbformat": 4,
 "nbformat_minor": 5
}
